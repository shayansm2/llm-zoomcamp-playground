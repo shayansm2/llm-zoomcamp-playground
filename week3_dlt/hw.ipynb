{
 "cells": [
  {
   "metadata": {},
   "cell_type": "markdown",
   "source": "# Question 1. dlt Version",
   "id": "ea016cdf04c77768"
  },
  {
   "metadata": {
    "ExecuteTime": {
     "end_time": "2025-07-11T07:27:39.042370Z",
     "start_time": "2025-07-11T07:27:38.665296Z"
    }
   },
   "cell_type": "code",
   "source": "import dlt",
   "id": "3b678b73e205dcff",
   "outputs": [],
   "execution_count": 2
  },
  {
   "metadata": {
    "ExecuteTime": {
     "end_time": "2025-07-11T07:27:59.441322Z",
     "start_time": "2025-07-11T07:27:59.438440Z"
    }
   },
   "cell_type": "code",
   "source": "dlt.__version__",
   "id": "eff1c3fb3880f847",
   "outputs": [
    {
     "data": {
      "text/plain": [
       "'1.13.0'"
      ]
     },
     "execution_count": 4,
     "metadata": {},
     "output_type": "execute_result"
    }
   ],
   "execution_count": 4
  },
  {
   "metadata": {
    "ExecuteTime": {
     "end_time": "2025-07-11T07:30:38.463864Z",
     "start_time": "2025-07-11T07:30:38.461252Z"
    }
   },
   "cell_type": "code",
   "source": "import requests",
   "id": "2ed05f127843a862",
   "outputs": [],
   "execution_count": 5
  },
  {
   "metadata": {
    "ExecuteTime": {
     "end_time": "2025-07-11T07:30:39.904329Z",
     "start_time": "2025-07-11T07:30:39.899704Z"
    }
   },
   "cell_type": "code",
   "source": [
    "@dlt.resource\n",
    "def zoomcamp_data():\n",
    "    docs_url = 'https://github.com/alexeygrigorev/llm-rag-workshop/raw/main/notebooks/documents.json'\n",
    "    docs_response = requests.get(docs_url)\n",
    "    documents_raw = docs_response.json()\n",
    "\n",
    "    for course in documents_raw:\n",
    "        course_name = course['course']\n",
    "\n",
    "        for doc in course['documents']:\n",
    "            doc['course'] = course_name\n",
    "            yield doc"
   ],
   "id": "a5db5ba40b61b9b9",
   "outputs": [],
   "execution_count": 6
  },
  {
   "metadata": {},
   "cell_type": "markdown",
   "source": "# Question 2. dlt pipeline",
   "id": "3a29fe8339909acf"
  },
  {
   "metadata": {
    "ExecuteTime": {
     "end_time": "2025-07-11T08:08:56.977127Z",
     "start_time": "2025-07-11T08:08:56.971845Z"
    }
   },
   "cell_type": "code",
   "source": [
    "from dlt.destinations import qdrant\n",
    "\n",
    "# qdrant_destination = qdrant(location=\"http://localhost:6333\", destination_name=\"dlt\")\n",
    "qdrant_destination = qdrant(qd_path=\"db.qdrant\")"
   ],
   "id": "12223534feb3f27a",
   "outputs": [],
   "execution_count": 22
  },
  {
   "metadata": {
    "ExecuteTime": {
     "end_time": "2025-07-11T08:09:15.286319Z",
     "start_time": "2025-07-11T08:08:57.546936Z"
    }
   },
   "cell_type": "code",
   "source": [
    "pipeline = dlt.pipeline(\n",
    "    pipeline_name=\"zoomcamp_pipeline\",\n",
    "    destination=qdrant_destination,\n",
    "    dataset_name=\"zoomcamp_tagged_data\"\n",
    ")\n",
    "load_info = pipeline.run(zoomcamp_data())\n",
    "print(pipeline.last_trace)"
   ],
   "id": "3e82e2f2bee8f722",
   "outputs": [
    {
     "name": "stdout",
     "output_type": "stream",
     "text": [
      "Run started at 2025-07-11 08:08:57.563446+00:00 and COMPLETED in 17.72 seconds with 4 steps.\n",
      "Step extract COMPLETED in 1.24 seconds.\n",
      "\n",
      "Load package 1752221339.4384341 is EXTRACTED and NOT YET LOADED to the destination and contains no failed jobs\n",
      "\n",
      "Step normalize COMPLETED in 0.25 seconds.\n",
      "Normalized data for the following tables:\n",
      "- zoomcamp_data: 948 row(s)\n",
      "\n",
      "Load package 1752221339.4384341 is NORMALIZED and NOT YET LOADED to the destination and contains no failed jobs\n",
      "\n",
      "Step load COMPLETED in 14.37 seconds.\n",
      "Pipeline zoomcamp_pipeline load step completed in 14.36 seconds\n",
      "1 load package(s) were loaded to destination qdrant and into dataset zoomcamp_tagged_data\n",
      "The qdrant destination used /Users/shayanshafieemoghadam/personal/llm-zoomcamp-playground/dlt/db.qdrant location to store data\n",
      "Load package 1752221339.4384341 is LOADED and contains no failed jobs\n",
      "\n",
      "Step run COMPLETED in 17.72 seconds.\n",
      "Pipeline zoomcamp_pipeline load step completed in 14.36 seconds\n",
      "1 load package(s) were loaded to destination qdrant and into dataset zoomcamp_tagged_data\n",
      "The qdrant destination used /Users/shayanshafieemoghadam/personal/llm-zoomcamp-playground/dlt/db.qdrant location to store data\n",
      "Load package 1752221339.4384341 is LOADED and contains no failed jobs\n"
     ]
    }
   ],
   "execution_count": 23
  },
  {
   "metadata": {},
   "cell_type": "code",
   "outputs": [],
   "execution_count": null,
   "source": "",
   "id": "7ec434e3ffa9ac9f"
  }
 ],
 "metadata": {
  "kernelspec": {
   "display_name": "Python 3",
   "language": "python",
   "name": "python3"
  },
  "language_info": {
   "codemirror_mode": {
    "name": "ipython",
    "version": 2
   },
   "file_extension": ".py",
   "mimetype": "text/x-python",
   "name": "python",
   "nbconvert_exporter": "python",
   "pygments_lexer": "ipython2",
   "version": "2.7.6"
  }
 },
 "nbformat": 4,
 "nbformat_minor": 5
}
