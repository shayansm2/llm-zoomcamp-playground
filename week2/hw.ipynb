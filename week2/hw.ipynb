{
 "cells": [
  {
   "cell_type": "markdown",
   "id": "93daaeeb",
   "metadata": {},
   "source": [
    "# Q1. Embedding the query"
   ]
  },
  {
   "cell_type": "code",
   "execution_count": 1,
   "id": "bb89088b",
   "metadata": {},
   "outputs": [
    {
     "name": "stderr",
     "output_type": "stream",
     "text": [
      "/Users/shayanshafieemoghadam/personal/llm-zoomcamp-playground/.venv/lib/python3.13/site-packages/tqdm/auto.py:21: TqdmWarning: IProgress not found. Please update jupyter and ipywidgets. See https://ipywidgets.readthedocs.io/en/stable/user_install.html\n",
      "  from .autonotebook import tqdm as notebook_tqdm\n"
     ]
    }
   ],
   "source": [
    "from fastembed import TextEmbedding\n",
    "import numpy as np"
   ]
  },
  {
   "cell_type": "code",
   "execution_count": 11,
   "id": "4b0ae0cd",
   "metadata": {},
   "outputs": [],
   "source": [
    "query = 'I just discovered the course. Can I join now?'"
   ]
  },
  {
   "cell_type": "code",
   "execution_count": 28,
   "id": "12852587",
   "metadata": {},
   "outputs": [
    {
     "data": {
      "text/plain": [
       "{'model': 'jinaai/jina-embeddings-v2-small-en',\n",
       " 'sources': {'hf': 'xenova/jina-embeddings-v2-small-en',\n",
       "  'url': None,\n",
       "  '_deprecated_tar_struct': False},\n",
       " 'model_file': 'onnx/model.onnx',\n",
       " 'description': 'Text embeddings, Unimodal (text), English, 8192 input tokens truncation, Prefixes for queries/documents: not necessary, 2023 year.',\n",
       " 'license': 'apache-2.0',\n",
       " 'size_in_GB': 0.12,\n",
       " 'additional_files': [],\n",
       " 'dim': 512,\n",
       " 'tasks': {}}"
      ]
     },
     "execution_count": 28,
     "metadata": {},
     "output_type": "execute_result"
    }
   ],
   "source": [
    "model_handle = \"jinaai/jina-embeddings-v2-small-en\"\n",
    "model = next((m for m in TextEmbedding.list_supported_models() if m[\"model\"] == model_handle), None)\n",
    "model"
   ]
  },
  {
   "cell_type": "code",
   "execution_count": null,
   "id": "4afe2578",
   "metadata": {},
   "outputs": [],
   "source": [
    "q = list(TextEmbedding(model_name=model_handle).embed(query))[0]"
   ]
  },
  {
   "cell_type": "code",
   "execution_count": 46,
   "id": "01656b3e",
   "metadata": {},
   "outputs": [
    {
     "data": {
      "text/plain": [
       "np.float64(-0.11726373551188797)"
      ]
     },
     "execution_count": 46,
     "metadata": {},
     "output_type": "execute_result"
    }
   ],
   "source": [
    "min(q)"
   ]
  },
  {
   "cell_type": "code",
   "execution_count": 47,
   "id": "528c2fb4",
   "metadata": {},
   "outputs": [
    {
     "data": {
      "text/plain": [
       "512"
      ]
     },
     "execution_count": 47,
     "metadata": {},
     "output_type": "execute_result"
    }
   ],
   "source": [
    "len(q)"
   ]
  },
  {
   "cell_type": "markdown",
   "id": "440b9e6a",
   "metadata": {},
   "source": [
    "# Q2. Cosine similarity with another vector"
   ]
  },
  {
   "cell_type": "code",
   "execution_count": 48,
   "id": "118e26b4",
   "metadata": {},
   "outputs": [
    {
     "data": {
      "text/plain": [
       "np.float64(1.0)"
      ]
     },
     "execution_count": 48,
     "metadata": {},
     "output_type": "execute_result"
    }
   ],
   "source": [
    "np.linalg.norm(q)"
   ]
  },
  {
   "cell_type": "code",
   "execution_count": 49,
   "id": "0e8d7bcb",
   "metadata": {},
   "outputs": [],
   "source": [
    "doc = 'Can I still join the course after the start date?'\n",
    "d = list(TextEmbedding(model_name=model_handle).embed(doc))[0]"
   ]
  },
  {
   "cell_type": "code",
   "execution_count": 50,
   "id": "9d59068b",
   "metadata": {},
   "outputs": [
    {
     "data": {
      "text/plain": [
       "np.float64(0.9008528856818037)"
      ]
     },
     "execution_count": 50,
     "metadata": {},
     "output_type": "execute_result"
    }
   ],
   "source": [
    "q.dot(d)"
   ]
  },
  {
   "cell_type": "markdown",
   "id": "63d81c91",
   "metadata": {},
   "source": [
    "# Q3. Ranking by cosine"
   ]
  },
  {
   "cell_type": "code",
   "execution_count": 51,
   "id": "0906cf1a",
   "metadata": {},
   "outputs": [],
   "source": [
    "documents = [{'text': \"Yes, even if you don't register, you're still eligible to submit the homeworks.\\nBe aware, however, that there will be deadlines for turning in the final projects. So don't leave everything for the last minute.\",\n",
    "  'section': 'General course-related questions',\n",
    "  'question': 'Course - Can I still join the course after the start date?',\n",
    "  'course': 'data-engineering-zoomcamp'},\n",
    " {'text': 'Yes, we will keep all the materials after the course finishes, so you can follow the course at your own pace after it finishes.\\nYou can also continue looking at the homeworks and continue preparing for the next cohort. I guess you can also start working on your final capstone project.',\n",
    "  'section': 'General course-related questions',\n",
    "  'question': 'Course - Can I follow the course after it finishes?',\n",
    "  'course': 'data-engineering-zoomcamp'},\n",
    " {'text': \"The purpose of this document is to capture frequently asked technical questions\\nThe exact day and hour of the course will be 15th Jan 2024 at 17h00. The course will start with the first  “Office Hours'' live.1\\nSubscribe to course public Google Calendar (it works from Desktop only).\\nRegister before the course starts using this link.\\nJoin the course Telegram channel with announcements.\\nDon’t forget to register in DataTalks.Club's Slack and join the channel.\",\n",
    "  'section': 'General course-related questions',\n",
    "  'question': 'Course - When will the course start?',\n",
    "  'course': 'data-engineering-zoomcamp'},\n",
    " {'text': 'You can start by installing and setting up all the dependencies and requirements:\\nGoogle cloud account\\nGoogle Cloud SDK\\nPython 3 (installed with Anaconda)\\nTerraform\\nGit\\nLook over the prerequisites and syllabus to see if you are comfortable with these subjects.',\n",
    "  'section': 'General course-related questions',\n",
    "  'question': 'Course - What can I do before the course starts?',\n",
    "  'course': 'data-engineering-zoomcamp'},\n",
    " {'text': 'Star the repo! Share it with friends if you find it useful ❣️\\nCreate a PR if you see you can improve the text or the structure of the repository.',\n",
    "  'section': 'General course-related questions',\n",
    "  'question': 'How can we contribute to the course?',\n",
    "  'course': 'data-engineering-zoomcamp'}]"
   ]
  },
  {
   "cell_type": "code",
   "execution_count": 58,
   "id": "9952c976",
   "metadata": {},
   "outputs": [
    {
     "name": "stdout",
     "output_type": "stream",
     "text": [
      "0 0.7629684493123693\n",
      "1 0.8182378325403556\n",
      "2 0.8085397290762828\n",
      "3 0.713307860072464\n",
      "4 0.7304499388234831\n"
     ]
    }
   ],
   "source": [
    "for i, doc in enumerate(documents):\n",
    "    d = list(TextEmbedding(model_name=model_handle).embed(doc[\"text\"]))[0]\n",
    "    print(i, q.dot(d))"
   ]
  },
  {
   "cell_type": "code",
   "execution_count": 59,
   "id": "a00c2b50",
   "metadata": {},
   "outputs": [],
   "source": [
    "docs = [doc[\"text\"] for doc in documents]"
   ]
  },
  {
   "cell_type": "code",
   "execution_count": 71,
   "id": "0b1ba489",
   "metadata": {},
   "outputs": [],
   "source": [
    "D = list(TextEmbedding(model_name=model_handle).embed(docs))"
   ]
  },
  {
   "cell_type": "code",
   "execution_count": 72,
   "id": "ec752130",
   "metadata": {},
   "outputs": [
    {
     "data": {
      "text/plain": [
       "(5, 512)"
      ]
     },
     "execution_count": 72,
     "metadata": {},
     "output_type": "execute_result"
    }
   ],
   "source": [
    "np.shape(D)"
   ]
  },
  {
   "cell_type": "code",
   "execution_count": 75,
   "id": "5d5cbd81",
   "metadata": {},
   "outputs": [
    {
     "data": {
      "text/plain": [
       "(512,)"
      ]
     },
     "execution_count": 75,
     "metadata": {},
     "output_type": "execute_result"
    }
   ],
   "source": [
    "np.shape(q)"
   ]
  },
  {
   "cell_type": "code",
   "execution_count": 77,
   "id": "43c2ef5c",
   "metadata": {},
   "outputs": [
    {
     "data": {
      "text/plain": [
       "array([0.76296845, 0.81823784, 0.80853973, 0.71330785, 0.73044995])"
      ]
     },
     "execution_count": 77,
     "metadata": {},
     "output_type": "execute_result"
    }
   ],
   "source": [
    "np.dot(D, q)"
   ]
  },
  {
   "cell_type": "markdown",
   "id": "4674259e",
   "metadata": {},
   "source": [
    "# Q4. Ranking by cosine, version two"
   ]
  },
  {
   "cell_type": "code",
   "execution_count": 80,
   "id": "7478fa6f",
   "metadata": {},
   "outputs": [],
   "source": [
    "new_docs = [doc[\"question\"] + \" \" + doc[\"text\"] for doc in documents]\n",
    "D = list(TextEmbedding(model_name=model_handle).embed(new_docs))"
   ]
  },
  {
   "cell_type": "code",
   "execution_count": 81,
   "id": "5c42bf30",
   "metadata": {},
   "outputs": [
    {
     "data": {
      "text/plain": [
       "array([0.8514543 , 0.84365941, 0.84082872, 0.77551577, 0.80860079])"
      ]
     },
     "execution_count": 81,
     "metadata": {},
     "output_type": "execute_result"
    }
   ],
   "source": [
    "np.dot(D, q)"
   ]
  },
  {
   "cell_type": "markdown",
   "id": "a82e6d69",
   "metadata": {},
   "source": [
    "# Q5. Selecting the embedding model"
   ]
  },
  {
   "cell_type": "code",
   "execution_count": 2,
   "id": "67cca056",
   "metadata": {},
   "outputs": [
    {
     "data": {
      "text/plain": [
       "384"
      ]
     },
     "execution_count": 2,
     "metadata": {},
     "output_type": "execute_result"
    }
   ],
   "source": [
    "dims = [m[\"dim\"] for m in TextEmbedding.list_supported_models()]\n",
    "min(dims)"
   ]
  },
  {
   "cell_type": "code",
   "execution_count": 3,
   "id": "fbfbd180",
   "metadata": {},
   "outputs": [
    {
     "data": {
      "text/plain": [
       "384"
      ]
     },
     "execution_count": 3,
     "metadata": {},
     "output_type": "execute_result"
    }
   ],
   "source": [
    "model_handle  = 'BAAI/bge-small-en'\n",
    "model = next((m for m in TextEmbedding.list_supported_models() if m[\"model\"] == model_handle), None)\n",
    "model[\"dim\"]"
   ]
  },
  {
   "cell_type": "markdown",
   "id": "e2c5f9bd",
   "metadata": {},
   "source": [
    "# Q6. Indexing with qdrant (2 points)"
   ]
  },
  {
   "cell_type": "markdown",
   "id": "98714c94",
   "metadata": {},
   "source": [
    "```bash\n",
    "docker run --rm -p 6333:6333 -p 6334:6334 \\\n",
    "   -v \"$(pwd)/.qdrant_storage:/qdrant/storage:z\" \\\n",
    "   qdrant/qdrant\n",
    "```"
   ]
  },
  {
   "cell_type": "code",
   "execution_count": 4,
   "id": "b3121b41",
   "metadata": {},
   "outputs": [],
   "source": [
    "import requests \n",
    "\n",
    "docs_url = 'https://github.com/alexeygrigorev/llm-rag-workshop/raw/main/notebooks/documents.json'\n",
    "docs_response = requests.get(docs_url)\n",
    "documents_raw = docs_response.json()\n",
    "\n",
    "documents = []\n",
    "\n",
    "for course in documents_raw:\n",
    "    course_name = course['course']\n",
    "    if course_name != 'machine-learning-zoomcamp':\n",
    "        continue\n",
    "\n",
    "    for doc in course['documents']:\n",
    "        doc['course'] = course_name\n",
    "        documents.append(doc)"
   ]
  },
  {
   "cell_type": "code",
   "execution_count": 5,
   "id": "a5bc849d",
   "metadata": {},
   "outputs": [],
   "source": [
    "from qdrant_client import QdrantClient, models"
   ]
  },
  {
   "cell_type": "code",
   "execution_count": 6,
   "id": "eb5508c7",
   "metadata": {},
   "outputs": [],
   "source": [
    "client = QdrantClient(\"http://localhost:6333\")"
   ]
  },
  {
   "cell_type": "code",
   "execution_count": 7,
   "id": "4ebee814",
   "metadata": {},
   "outputs": [],
   "source": [
    "model_handle  = 'BAAI/bge-small-en'\n",
    "collection_name = \"ml-zoomcamp-rag\"\n",
    "embedding_dim = model[\"dim\"]"
   ]
  },
  {
   "cell_type": "code",
   "execution_count": null,
   "id": "5e914e6a",
   "metadata": {},
   "outputs": [
    {
     "data": {
      "text/plain": [
       "True"
      ]
     },
     "execution_count": 92,
     "metadata": {},
     "output_type": "execute_result"
    }
   ],
   "source": [
    "client.create_coxllection(\n",
    "    collection_name=collection_name,\n",
    "    vectors_config=models.VectorParams(\n",
    "        size=embedding_dim,\n",
    "        distance=models.Distance.COSINE\n",
    "    )\n",
    ")"
   ]
  },
  {
   "cell_type": "code",
   "execution_count": 8,
   "id": "17bc5274",
   "metadata": {},
   "outputs": [],
   "source": [
    "points = []\n",
    "for i, doc in enumerate(documents):\n",
    "    points.append(models.PointStruct(\n",
    "            id=i,\n",
    "            vector=models.Document(text=doc['question'] + ' ' + doc['text'], model=model_handle),\n",
    "            payload={\n",
    "                \"text\": doc['text'],\n",
    "                \"section\": doc['section'],\n",
    "                \"course\": course['course']\n",
    "            }\n",
    "        ))"
   ]
  },
  {
   "cell_type": "code",
   "execution_count": 9,
   "id": "92ddda2b",
   "metadata": {},
   "outputs": [
    {
     "name": "stderr",
     "output_type": "stream",
     "text": [
      "Fetching 5 files:  20%|██        | 1/5 [00:10<00:40, 10.00s/it]\n",
      "\u001b[32m2025-06-28 18:05:45.751\u001b[0m | \u001b[31m\u001b[1mERROR   \u001b[0m | \u001b[36mfastembed.common.model_management\u001b[0m:\u001b[36mdownload_model\u001b[0m:\u001b[36m430\u001b[0m - \u001b[31m\u001b[1mCould not download model from HuggingFace: An error happened while trying to locate the file on the Hub and we cannot find the requested files in the local cache. Please check your connection and try again or make sure your Internet connection is on. Falling back to other sources.\u001b[0m\n",
      "100%|██████████| 77.7M/77.7M [01:11<00:00, 1.08MiB/s]\n"
     ]
    },
    {
     "data": {
      "text/plain": [
       "UpdateResult(operation_id=0, status=<UpdateStatus.COMPLETED: 'completed'>)"
      ]
     },
     "execution_count": 9,
     "metadata": {},
     "output_type": "execute_result"
    }
   ],
   "source": [
    "client.upsert(\n",
    "    collection_name=collection_name,\n",
    "    points=points\n",
    ")"
   ]
  },
  {
   "cell_type": "code",
   "execution_count": 12,
   "id": "e6adcfc7",
   "metadata": {},
   "outputs": [],
   "source": [
    "result = client.query_points(\n",
    "    collection_name=collection_name,\n",
    "    query=models.Document(text=query, model=model_handle)\n",
    ")"
   ]
  },
  {
   "cell_type": "code",
   "execution_count": 18,
   "id": "57957137",
   "metadata": {},
   "outputs": [
    {
     "data": {
      "text/plain": [
       "0.8703172"
      ]
     },
     "execution_count": 18,
     "metadata": {},
     "output_type": "execute_result"
    }
   ],
   "source": [
    "result.points[0].score"
   ]
  },
  {
   "cell_type": "code",
   "execution_count": null,
   "id": "7fece4e7",
   "metadata": {},
   "outputs": [],
   "source": []
  }
 ],
 "metadata": {
  "kernelspec": {
   "display_name": ".venv",
   "language": "python",
   "name": "python3"
  },
  "language_info": {
   "codemirror_mode": {
    "name": "ipython",
    "version": 3
   },
   "file_extension": ".py",
   "mimetype": "text/x-python",
   "name": "python",
   "nbconvert_exporter": "python",
   "pygments_lexer": "ipython3",
   "version": "3.13.3"
  }
 },
 "nbformat": 4,
 "nbformat_minor": 5
}
