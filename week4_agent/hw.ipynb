{
 "cells": [
  {
   "cell_type": "markdown",
   "id": "d0eb210d",
   "metadata": {},
   "source": [
    "# Q1. Define function description"
   ]
  },
  {
   "cell_type": "code",
   "execution_count": 1,
   "id": "60e0c523",
   "metadata": {},
   "outputs": [],
   "source": [
    "import random\n",
    "\n",
    "known_weather_data = {\n",
    "    'berlin': 20.0\n",
    "}\n",
    "\n",
    "def get_weather(city: str) -> float:\n",
    "    city = city.strip().lower()\n",
    "\n",
    "    if city in known_weather_data:\n",
    "        return known_weather_data[city]\n",
    "\n",
    "    return round(random.uniform(-5, 35), 1)"
   ]
  },
  {
   "cell_type": "code",
   "execution_count": 2,
   "id": "97dd9526",
   "metadata": {},
   "outputs": [],
   "source": [
    "get_weather_tool = {\n",
    "    \"type\": \"function\",\n",
    "    \"name\": \"get_weather\",\n",
    "    \"description\": \"get today's weather\",\n",
    "    \"parameters\": {\n",
    "        \"type\": \"object\",\n",
    "        \"properties\": {\n",
    "            \"city\": {\n",
    "                \"type\": \"string\",\n",
    "                \"description\": \"city name\"\n",
    "            }\n",
    "        },\n",
    "        \"required\": [\"city\"],\n",
    "        \"additionalProperties\": False\n",
    "    }\n",
    "}"
   ]
  },
  {
   "cell_type": "markdown",
   "id": "91211044",
   "metadata": {},
   "source": [
    "# Q2. Adding another tool"
   ]
  },
  {
   "cell_type": "code",
   "execution_count": 1,
   "id": "2e930f91",
   "metadata": {},
   "outputs": [],
   "source": [
    "def set_weather(city: str, temp: float) -> None:\n",
    "    city = city.strip().lower()\n",
    "    known_weather_data[city] = temp\n",
    "    return 'OK'"
   ]
  },
  {
   "cell_type": "code",
   "execution_count": 2,
   "id": "61721fe6",
   "metadata": {},
   "outputs": [],
   "source": [
    "description = \"Add an weather entry to the database\""
   ]
  },
  {
   "cell_type": "markdown",
   "id": "d37a7744",
   "metadata": {},
   "source": [
    "# Q3. Install FastMCP"
   ]
  },
  {
   "cell_type": "code",
   "execution_count": null,
   "id": "e1f82101",
   "metadata": {},
   "outputs": [],
   "source": [
    "!pip install fastmcp"
   ]
  },
  {
   "cell_type": "code",
   "execution_count": 6,
   "id": "39aee97e",
   "metadata": {},
   "outputs": [
    {
     "data": {
      "text/plain": [
       "'2.10.6'"
      ]
     },
     "execution_count": 6,
     "metadata": {},
     "output_type": "execute_result"
    }
   ],
   "source": [
    "import fastmcp\n",
    "\n",
    "fastmcp.__version__"
   ]
  },
  {
   "cell_type": "markdown",
   "id": "e7717db4",
   "metadata": {},
   "source": [
    "# Q4. Simple MCP Server"
   ]
  },
  {
   "cell_type": "markdown",
   "id": "c213a0c0",
   "metadata": {},
   "source": [
    "Starting MCP server 'Demo 🚀' with transport 'stdio'"
   ]
  },
  {
   "cell_type": "markdown",
   "id": "011bba2f",
   "metadata": {},
   "source": [
    "# Q5. Protocol"
   ]
  },
  {
   "cell_type": "markdown",
   "id": "4c5b2fe3",
   "metadata": {},
   "source": [
    "request:\n",
    "```\n",
    "{\"jsonrpc\": \"2.0\", \"id\": 3, \"method\": \"tools/call\", \"params\": {\"name\": \"get_weather\", \"arguments\": {\"city\": \"Berlin\"}}}\n",
    "```\n",
    "\n",
    "response:\n",
    "```\n",
    "{\"jsonrpc\":\"2.0\",\"id\":3,\"result\":{\"content\":[{\"type\":\"text\",\"text\":\"20.0\"}],\"structuredContent\":{\"result\":20.0},\"isError\":false}}\n",
    "```"
   ]
  },
  {
   "cell_type": "markdown",
   "id": "9d473631",
   "metadata": {},
   "source": [
    "# Q6. Client"
   ]
  },
  {
   "cell_type": "code",
   "execution_count": 17,
   "id": "c79e0a9e",
   "metadata": {},
   "outputs": [],
   "source": [
    "import weather_server\n",
    "from fastmcp import Client\n",
    "\n",
    "async def main():\n",
    "    async with Client(weather_server.mcp) as mcp_client:\n",
    "        print(await mcp_client.list_prompts())"
   ]
  }
 ],
 "metadata": {
  "kernelspec": {
   "display_name": "llm-zoomcamp-playground",
   "language": "python",
   "name": "python3"
  },
  "language_info": {
   "codemirror_mode": {
    "name": "ipython",
    "version": 3
   },
   "file_extension": ".py",
   "mimetype": "text/x-python",
   "name": "python",
   "nbconvert_exporter": "python",
   "pygments_lexer": "ipython3",
   "version": "3.13.2"
  }
 },
 "nbformat": 4,
 "nbformat_minor": 5
}
