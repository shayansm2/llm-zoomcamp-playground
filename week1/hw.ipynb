{
 "cells": [
  {
   "cell_type": "markdown",
   "metadata": {},
   "source": [
    "# question1:\n",
    "running this on github code spaces\n",
    "```bash\n",
    "docker run --rm \\\n",
    "    --name elastic \\\n",
    "    -p 9200:9200 \\\n",
    "    -p 9300:9300 \\\n",
    "    -e \"discovery.type=single-node\" \\\n",
    "    -e \"xpack.security.enabled=false\" \\\n",
    "    docker.elastic.co/elasticsearch/elasticsearch:8.4.3\n",
    "```\n",
    "and then running this\n",
    "```bash\n",
    "curl localhost:9200\n",
    "```\n",
    "\n",
    "`version.build_hash` is `42f05b9372a9a4a470db3b52817899b99a76ee73`"
   ]
  },
  {
   "cell_type": "code",
   "execution_count": null,
   "metadata": {},
   "outputs": [],
   "source": []
  }
 ],
 "metadata": {
  "language_info": {
   "name": "python"
  }
 },
 "nbformat": 4,
 "nbformat_minor": 2
}
