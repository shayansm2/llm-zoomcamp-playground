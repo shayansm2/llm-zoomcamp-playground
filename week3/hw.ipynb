{
 "cells": [
  {
   "cell_type": "markdown",
   "metadata": {},
   "source": [
    "[homework question link](https://github.com/DataTalksClub/llm-zoomcamp/blob/main/cohorts/2024/03-vector-search/homework.md)"
   ]
  },
  {
   "cell_type": "markdown",
   "metadata": {},
   "source": [
    "# Q1. Getting the embeddings model"
   ]
  },
  {
   "cell_type": "markdown",
   "metadata": {},
   "source": [
    "```bash\n",
    "pip install -U sentence-transformers\n",
    "pip install tqdm\n",
    "pip install pandas\n",
    "```"
   ]
  },
  {
   "cell_type": "code",
   "execution_count": 2,
   "metadata": {},
   "outputs": [
    {
     "name": "stderr",
     "output_type": "stream",
     "text": [
      "/usr/local/python/3.10.13/lib/python3.10/site-packages/sentence_transformers/cross_encoder/CrossEncoder.py:11: TqdmWarning: IProgress not found. Please update jupyter and ipywidgets. See https://ipywidgets.readthedocs.io/en/stable/user_install.html\n",
      "  from tqdm.autonotebook import tqdm, trange\n"
     ]
    }
   ],
   "source": [
    "from sentence_transformers import SentenceTransformer\n",
    "\n",
    "model_name = 'multi-qa-distilbert-cos-v1'\n",
    "embedding_model = SentenceTransformer(model_name)"
   ]
  },
  {
   "cell_type": "code",
   "execution_count": 3,
   "metadata": {},
   "outputs": [
    {
     "data": {
      "text/plain": [
       "0.078222655"
      ]
     },
     "execution_count": 3,
     "metadata": {},
     "output_type": "execute_result"
    }
   ],
   "source": [
    "user_question = \"I just discovered the course. Can I still join it?\"\n",
    "embedding_model.encode(user_question)[0]"
   ]
  },
  {
   "cell_type": "code",
   "execution_count": 4,
   "metadata": {},
   "outputs": [],
   "source": [
    "import requests \n",
    "\n",
    "base_url = 'https://github.com/DataTalksClub/llm-zoomcamp/blob/main'\n",
    "relative_url = '03-vector-search/eval/documents-with-ids.json'\n",
    "docs_url = f'{base_url}/{relative_url}?raw=1'\n",
    "docs_response = requests.get(docs_url)\n",
    "documents = docs_response.json()"
   ]
  },
  {
   "cell_type": "code",
   "execution_count": 5,
   "metadata": {},
   "outputs": [],
   "source": [
    "ml_docs = []\n",
    "for doc in documents:\n",
    "    if doc['course'] == 'machine-learning-zoomcamp':\n",
    "        ml_docs.append(doc)"
   ]
  },
  {
   "cell_type": "code",
   "execution_count": 6,
   "metadata": {},
   "outputs": [
    {
     "data": {
      "text/plain": [
       "{'text': 'Machine Learning Zoomcamp FAQ\\nThe purpose of this document is to capture frequently asked technical questions.\\nWe did this for our data engineering course and it worked quite well. Check this document for inspiration on how to structure your questions and answers:\\nData Engineering Zoomcamp FAQ\\nIn the course GitHub repository there’s a link. Here it is: https://airtable.com/shryxwLd0COOEaqXo\\nwork',\n",
       " 'section': 'General course-related questions',\n",
       " 'question': 'How do I sign up?',\n",
       " 'course': 'machine-learning-zoomcamp',\n",
       " 'id': '0227b872'}"
      ]
     },
     "execution_count": 6,
     "metadata": {},
     "output_type": "execute_result"
    }
   ],
   "source": [
    "ml_docs[0]"
   ]
  },
  {
   "cell_type": "code",
   "execution_count": 7,
   "metadata": {},
   "outputs": [
    {
     "data": {
      "text/plain": [
       "375"
      ]
     },
     "execution_count": 7,
     "metadata": {},
     "output_type": "execute_result"
    }
   ],
   "source": [
    "len(ml_docs)"
   ]
  },
  {
   "cell_type": "markdown",
   "metadata": {},
   "source": [
    "# Q2. Creating the embeddings"
   ]
  },
  {
   "cell_type": "code",
   "execution_count": 8,
   "metadata": {},
   "outputs": [],
   "source": [
    "import numpy as np"
   ]
  },
  {
   "cell_type": "code",
   "execution_count": 9,
   "metadata": {},
   "outputs": [],
   "source": [
    "embeddings = []\n",
    "for doc in ml_docs:\n",
    "    qa_text = doc['question'] + \" \" + doc['text']\n",
    "    embeddings.append(embedding_model.encode(qa_text))"
   ]
  },
  {
   "cell_type": "code",
   "execution_count": 10,
   "metadata": {},
   "outputs": [
    {
     "data": {
      "text/plain": [
       "(375, 768)"
      ]
     },
     "execution_count": 10,
     "metadata": {},
     "output_type": "execute_result"
    }
   ],
   "source": [
    "X = np.array(embeddings)\n",
    "X.shape"
   ]
  },
  {
   "cell_type": "markdown",
   "metadata": {},
   "source": [
    "# Q3. Search"
   ]
  },
  {
   "cell_type": "code",
   "execution_count": 11,
   "metadata": {},
   "outputs": [
    {
     "data": {
      "text/plain": [
       "(768,)"
      ]
     },
     "execution_count": 11,
     "metadata": {},
     "output_type": "execute_result"
    }
   ],
   "source": [
    "v = embedding_model.encode(user_question)\n",
    "v.shape"
   ]
  },
  {
   "cell_type": "code",
   "execution_count": 11,
   "metadata": {},
   "outputs": [],
   "source": [
    "scores = X.dot(v)"
   ]
  },
  {
   "cell_type": "code",
   "execution_count": 12,
   "metadata": {},
   "outputs": [
    {
     "data": {
      "text/plain": [
       "(375,)"
      ]
     },
     "execution_count": 12,
     "metadata": {},
     "output_type": "execute_result"
    }
   ],
   "source": [
    "scores.shape"
   ]
  },
  {
   "cell_type": "markdown",
   "metadata": {},
   "source": [
    "- `v` is a vector with 768 tokens.\n",
    "- `X` is a matrix which shows all the 768 tockes inside 375 record.\n",
    "- `scores` shows the similarity of v with each of the records.\n",
    "\n",
    "it is called the similarity between a query vector and all the embeddings."
   ]
  },
  {
   "cell_type": "code",
   "execution_count": 13,
   "metadata": {},
   "outputs": [
    {
     "data": {
      "text/plain": [
       "0.6506573"
      ]
     },
     "execution_count": 13,
     "metadata": {},
     "output_type": "execute_result"
    }
   ],
   "source": [
    "max(scores)"
   ]
  },
  {
   "cell_type": "code",
   "execution_count": 22,
   "metadata": {},
   "outputs": [
    {
     "data": {
      "text/plain": [
       "[{'text': 'You can find the latest and up-to-date deadlines here: https://docs.google.com/spreadsheets/d/e/2PACX-1vQACMLuutV5rvXg5qICuJGL-yZqIV0FBD84CxPdC5eZHf8TfzB-CJT_3Mo7U7oGVTXmSihPgQxuuoku/pubhtml\\nAlso, take note of Announcements from @Au-Tomator for any extensions or other news. Or, the form may also show the updated deadline, if Instructor(s) has updated it.',\n",
       "  'section': 'General course-related questions',\n",
       "  'question': 'Homework - What are homework and project deadlines?',\n",
       "  'course': 'data-engineering-zoomcamp',\n",
       "  'id': 'a1daf537'},\n",
       " {'text': 'After you submit your homework it will be graded based on the amount of questions in a particular homework. You can see how many points you have right on the page of the homework up top. Additionally in the leaderboard you will find the sum of all points you’ve earned - points for Homeworks, FAQs and Learning in Public. If homework is clear, others work as follows: if you submit something to FAQ, you get one point, for each learning in a public link you get one point.\\n(https://datatalks-club.slack.com/archives/C01FABYF2RG/p1706846846359379?thread_ts=1706825019.546229&cid=C01FABYF2RG)',\n",
       "  'section': 'General course-related questions',\n",
       "  'question': 'Homework and Leaderboard - what is the system for points in the course management platform?',\n",
       "  'course': 'data-engineering-zoomcamp',\n",
       "  'id': '29865466'},\n",
       " {'text': \"There are 3 Zoom Camps in a year, as of 2024. However, they are for separate courses:\\nData-Engineering (Jan - Apr)\\nMLOps (May - Aug)\\nMachine Learning (Sep - Jan)\\nThere's only one Data-Engineering Zoomcamp “live” cohort per year, for the certification. Same as for the other Zoomcamps.\\nThey follow pretty much the same schedule for each cohort per zoomcamp. For Data-Engineering it is (generally) from Jan-Apr of the year. If you’re not interested in the Certificate, you can take any zoom camps at any time, at your own pace, out of sync with any “live” cohort.\",\n",
       "  'section': 'General course-related questions',\n",
       "  'question': 'Course - how many Zoomcamps in a year?',\n",
       "  'course': 'data-engineering-zoomcamp',\n",
       "  'id': '2ed9b986'},\n",
       " {'text': 'Check Docker Compose File:\\nEnsure that your docker-compose.yaml file is correctly configured with the necessary details for the \"control-center\" service. Check the service name, image name, ports, volumes, environment variables, and any other configurations required for the container to start.\\nOn Mac OSX 12.2.1 (Monterey) I could not start the kafka control center. I opened Docker Desktop and saw docker images still running from week 4, which I did not see when I typed “docker ps.” I deleted them in docker desktop and then had no problem starting up the kafka environment.',\n",
       "  'section': 'Module 6: streaming with kafka',\n",
       "  'question': 'Could not start docker image “control-center” from the docker-compose.yaml file.',\n",
       "  'course': 'data-engineering-zoomcamp',\n",
       "  'id': '70ac8e80'},\n",
       " {'text': 'You can set it up on your laptop or PC if you prefer to work locally from your laptop or PC.\\nYou might face some challenges, especially for Windows users. If you face cnd2\\nIf you prefer to work on the local machine, you may start with the week 1 Introduction to Docker and follow through.\\nHowever, if you prefer to set up a virtual machine, you may start with these first:\\nUsing GitHub Codespaces\\nSetting up the environment on a cloudV Mcodespace\\nI decided to work on a virtual machine because I have different laptops & PCs for my home & office, so I can work on this boot camp virtually anywhere.',\n",
       "  'section': 'General course-related questions',\n",
       "  'question': 'Environment - Should I use my local machine, GCP, or GitHub Codespaces for my environment?',\n",
       "  'course': 'data-engineering-zoomcamp',\n",
       "  'id': 'ddf6c1b3'}]"
      ]
     },
     "execution_count": 22,
     "metadata": {},
     "output_type": "execute_result"
    }
   ],
   "source": [
    "class BuiltInVectorSearchEngine():\n",
    "    def __init__(self, documents, embeddings):\n",
    "        self.documents = documents\n",
    "        self.embeddings = embeddings\n",
    "\n",
    "    def search(self, v_query, num_results=10):\n",
    "        scores = self.embeddings.dot(v_query)\n",
    "        idx = np.argsort(-scores)[:num_results]\n",
    "        return [self.documents[i] for i in idx]\n",
    "\n",
    "search_engine = BuiltInVectorSearchEngine(documents=documents, embeddings=X)\n",
    "search_engine.search(v, num_results=5)"
   ]
  },
  {
   "cell_type": "markdown",
   "metadata": {},
   "source": [
    "# Q4. Hit-rate for our search engine"
   ]
  },
  {
   "cell_type": "code",
   "execution_count": 23,
   "metadata": {},
   "outputs": [],
   "source": [
    "import pandas as pd\n",
    "\n",
    "base_url = 'https://github.com/DataTalksClub/llm-zoomcamp/blob/main'\n",
    "relative_url = '03-vector-search/eval/ground-truth-data.csv'\n",
    "ground_truth_url = f'{base_url}/{relative_url}?raw=1'\n",
    "\n",
    "df_ground_truth = pd.read_csv(ground_truth_url)\n",
    "df_ground_truth = df_ground_truth[df_ground_truth.course == 'machine-learning-zoomcamp']\n",
    "ground_truth = df_ground_truth.to_dict(orient='records')"
   ]
  },
  {
   "cell_type": "code",
   "execution_count": 24,
   "metadata": {},
   "outputs": [
    {
     "data": {
      "text/plain": [
       "{'question': 'Where can I sign up for the course?',\n",
       " 'course': 'machine-learning-zoomcamp',\n",
       " 'document': '0227b872'}"
      ]
     },
     "execution_count": 24,
     "metadata": {},
     "output_type": "execute_result"
    }
   ],
   "source": [
    "ground_truth[0]"
   ]
  },
  {
   "cell_type": "code",
   "execution_count": 25,
   "metadata": {},
   "outputs": [],
   "source": [
    "def hit_rate(relevance_total):\n",
    "    cnt = 0\n",
    "\n",
    "    for line in relevance_total:\n",
    "        if True in line:\n",
    "            cnt = cnt + 1\n",
    "\n",
    "    return cnt / len(relevance_total)\n",
    "\n",
    "def mrr(relevance_total):\n",
    "    total_score = 0.0\n",
    "\n",
    "    for line in relevance_total:\n",
    "        for rank in range(len(line)):\n",
    "            if line[rank] == True:\n",
    "                total_score = total_score + 1 / (rank + 1)\n",
    "\n",
    "    return total_score / len(relevance_total)"
   ]
  },
  {
   "cell_type": "code",
   "execution_count": 29,
   "metadata": {},
   "outputs": [],
   "source": [
    "from tqdm.auto import tqdm\n",
    "\n",
    "def metric_evaluator(metric):\n",
    "    def evaluate(ground_truth, search_function):\n",
    "        relevance_total = []\n",
    "\n",
    "        for q in tqdm(ground_truth):\n",
    "            results = search_function(q)\n",
    "            relevance = [d['id'] == q['document'] for d in results]\n",
    "            relevance_total.append(relevance)\n",
    "        \n",
    "        return metric(relevance_total)\n",
    "    \n",
    "    return evaluate"
   ]
  },
  {
   "cell_type": "code",
   "execution_count": 30,
   "metadata": {},
   "outputs": [],
   "source": [
    "def searcher(embeding_model, vector_search_engine):\n",
    "    def search(query, num_results=10):\n",
    "        vector_query = embeding_model.encode(query)\n",
    "        return vector_search_engine.search(vector_query, num_results)\n",
    "    return search"
   ]
  },
  {
   "cell_type": "code",
   "execution_count": 31,
   "metadata": {},
   "outputs": [
    {
     "name": "stderr",
     "output_type": "stream",
     "text": [
      "100%|██████████| 10/10 [00:00<00:00, 16.16it/s]\n"
     ]
    },
    {
     "data": {
      "text/plain": [
       "0.0"
      ]
     },
     "execution_count": 31,
     "metadata": {},
     "output_type": "execute_result"
    }
   ],
   "source": [
    "search_engine = BuiltInVectorSearchEngine(documents=documents, embeddings=X)\n",
    "search_function = searcher(embedding_model, search_engine)\n",
    "\n",
    "hit_rate_evaluator = metric_evaluator(hit_rate)\n",
    "hit_rate_evaluator(ground_truth[:10], lambda v: search_function(v['question'], num_results=5))"
   ]
  },
  {
   "cell_type": "markdown",
   "metadata": {},
   "source": [
    "# Q5. Indexing with Elasticsearch"
   ]
  },
  {
   "cell_type": "markdown",
   "metadata": {},
   "source": [
    "```bash\n",
    "docker run --rm \\\n",
    "    --name elastic \\\n",
    "    -p 9200:9200 \\\n",
    "    -p 9300:9300 \\\n",
    "    -e \"discovery.type=single-node\" \\\n",
    "    -e \"xpack.security.enabled=false\" \\\n",
    "    docker.elastic.co/elasticsearch/elasticsearch:8.4.3\n",
    "```"
   ]
  },
  {
   "cell_type": "code",
   "execution_count": 20,
   "metadata": {},
   "outputs": [
    {
     "data": {
      "text/plain": [
       "(768,)"
      ]
     },
     "execution_count": 20,
     "metadata": {},
     "output_type": "execute_result"
    }
   ],
   "source": [
    "v.shape"
   ]
  },
  {
   "cell_type": "markdown",
   "metadata": {},
   "source": [
    "## 5.1. create the index"
   ]
  },
  {
   "cell_type": "code",
   "execution_count": 15,
   "metadata": {},
   "outputs": [],
   "source": [
    "from elasticsearch import Elasticsearch\n",
    "\n",
    "es_client = Elasticsearch('http://localhost:9200') \n",
    "index_name = \"course-questions\""
   ]
  },
  {
   "cell_type": "code",
   "execution_count": 21,
   "metadata": {},
   "outputs": [
    {
     "data": {
      "text/plain": [
       "ObjectApiResponse({'acknowledged': True, 'shards_acknowledged': True, 'index': 'course-questions'})"
      ]
     },
     "execution_count": 21,
     "metadata": {},
     "output_type": "execute_result"
    }
   ],
   "source": [
    "index_settings = {\n",
    "    \"settings\": {\n",
    "        \"number_of_shards\": 1,\n",
    "        \"number_of_replicas\": 0\n",
    "    },\n",
    "    \"mappings\": {\n",
    "        \"properties\": {\n",
    "            \"text\": {\"type\": \"text\"},\n",
    "            \"section\": {\"type\": \"text\"},\n",
    "            \"question\": {\"type\": \"text\"},\n",
    "            \"course\": {\"type\": \"keyword\"},\n",
    "            \"id\": {\"type\": \"keyword\"},\n",
    "            \"question_text_vector\": {\n",
    "                \"type\": \"dense_vector\",\n",
    "                \"dims\": 768,\n",
    "                \"index\": True,\n",
    "                \"similarity\": \"cosine\"\n",
    "            }\n",
    "        }\n",
    "    }\n",
    "}\n",
    "\n",
    "es_client.indices.delete(index=index_name, ignore_unavailable=True)\n",
    "es_client.indices.create(index=index_name, body=index_settings)"
   ]
  },
  {
   "cell_type": "markdown",
   "metadata": {},
   "source": [
    "## 5.2. index the documents"
   ]
  },
  {
   "cell_type": "code",
   "execution_count": 23,
   "metadata": {},
   "outputs": [
    {
     "name": "stderr",
     "output_type": "stream",
     "text": [
      "375it [00:10, 34.85it/s]\n"
     ]
    }
   ],
   "source": [
    "for i, doc in tqdm(enumerate(ml_docs)):\n",
    "    doc['question_text_vector'] = embeddings[i]\n",
    "    es_client.index(index=index_name, document=doc)"
   ]
  },
  {
   "cell_type": "code",
   "execution_count": 24,
   "metadata": {},
   "outputs": [
    {
     "data": {
      "text/plain": [
       "ObjectApiResponse({'count': 375, '_shards': {'total': 1, 'successful': 1, 'skipped': 0, 'failed': 0}})"
      ]
     },
     "execution_count": 24,
     "metadata": {},
     "output_type": "execute_result"
    }
   ],
   "source": [
    "es_client.count(index=index_name)"
   ]
  },
  {
   "cell_type": "code",
   "execution_count": 26,
   "metadata": {},
   "outputs": [
    {
     "data": {
      "text/plain": [
       "ObjectApiResponse({'took': 2, 'timed_out': False, '_shards': {'total': 1, 'successful': 1, 'skipped': 0, 'failed': 0}, 'hits': {'total': {'value': 375, 'relation': 'eq'}, 'max_score': 1.0, 'hits': [{'_index': 'course-questions', '_id': 'CopTxpAB65ah-_iDM-Rk', '_score': 1.0, '_source': {'text': 'Machine Learning Zoomcamp FAQ\\nThe purpose of this document is to capture frequently asked technical questions.\\nWe did this for our data engineering course and it worked quite well. Check this document for inspiration on how to structure your questions and answers:\\nData Engineering Zoomcamp FAQ\\nIn the course GitHub repository there’s a link. Here it is: https://airtable.com/shryxwLd0COOEaqXo\\nwork', 'section': 'General course-related questions', 'question': 'How do I sign up?', 'course': 'machine-learning-zoomcamp', 'id': '0227b872', 'question_text_vector': [0.08805905282497406, 0.01559354830533266, 0.07925581932067871, 0.025275787338614464, 0.07557650655508041, -0.03905969485640526, -0.041381385177373886, 0.025291813537478447, 0.02432412840425968, 0.003625859972089529, -0.0072828554548323154, -0.03287515416741371, 0.06129564717411995, -0.057110100984573364, 0.011677478440105915, -0.01794421300292015, 0.044920604676008224, -0.05416058748960495, -0.0019226103322580457, 0.014832993037998676, 0.007913600653409958, -0.03431273624300957, 0.012148048728704453, 0.012718571349978447, -0.016009271144866943, 0.007121378555893898, 0.015838950872421265, -0.0003274889022577554, 0.0030129654332995415, -0.045891840010881424, -0.0013477543834596872, 0.020114954560995102, 0.02337244711816311, -0.004282007459551096, -0.0309384036809206, 0.0019430274842306972, -0.018821975216269493, 0.005351603031158447, 0.012935235165059566, -0.03239579126238823, 0.031055621802806854, 0.005129816476255655, -0.00032439493224956095, -0.0315541997551918, 0.019337717443704605, -0.06386015564203262, -0.030538104474544525, -0.0627884790301323, -0.017485978081822395, 0.03529495745897293, -0.029807191342115402, 0.07453460991382599, -0.020618323236703873, -0.017915695905685425, 0.018626263365149498, 0.05310148373246193, 0.011928746476769447, -0.05185440555214882, -0.0016192254843190312, 0.035870589315891266, -0.00652320496737957, 0.04532873257994652, -0.010617394931614399, 0.010241564363241196, -0.0441201888024807, -0.07079856842756271, 0.013366528786718845, -0.02050626650452614, 0.036204222589731216, -0.03394508361816406, 0.03251391649246216, 0.022220512852072716, -0.03241369128227234, -0.03931590914726257, 0.00027536071138456464, 0.024368656799197197, 0.015789005905389786, 0.02504091151058674, 0.0017095868242904544, -0.00026332843117415905, 0.04402170330286026, -0.05463649705052376, 0.023434946313500404, 0.029948705807328224, 0.014127472415566444, -0.02913304977118969, -0.006473863963037729, -0.035405367612838745, 0.017130516469478607, 0.029090464115142822, 0.014685901813209057, 0.008543414063751698, -0.03444167971611023, -0.010483615100383759, 0.031548574566841125, -0.08746440708637238, -0.02118295431137085, -0.05052272975444794, -0.007523448672145605, 0.04427935555577278, 0.03775102272629738, -0.0012497795978561044, 0.006454062648117542, -0.015307912603020668, 0.01664072833955288, 0.054639142006635666, 0.017850060015916824, -0.007612829562276602, -0.04611030966043472, 0.041001949459314346, -0.04522734135389328, -0.02776232361793518, 0.01952885277569294, -0.06118675693869591, 0.011264421977102757, 0.00508541613817215, 0.048585135489702225, -0.009069911204278469, -0.009793364442884922, 0.017246128991246223, -0.07309051603078842, 0.053657401353120804, -0.03240153193473816, 0.012410450726747513, 0.010690329596400261, 0.03307216241955757, 0.041483961045742035, 0.033842865377664566, -0.0011289046378806233, -0.09085260331630707, 0.0037602197844535112, -0.03495752066373825, 0.013147368095815182, 0.01338277943432331, 0.03444744646549225, 0.06850545108318329, -0.01424546167254448, -0.05422988906502724, -0.008573802188038826, 0.024268778041005135, 0.05158700421452522, -0.028977559879422188, -0.014767765998840332, -0.010823936201632023, -0.05663936212658882, -0.0020752507261931896, -0.0371209941804409, 0.004005127120763063, -0.05979011580348015, -0.01558887679129839, 0.027270374819636345, 0.019472062587738037, 0.018741564825177193, -0.03745102509856224, 0.0262067262083292, 0.07502870261669159, 0.02161012403666973, -0.013781312853097916, 0.05019880831241608, -0.006470273714512587, 0.05674300342798233, -0.04038682207465172, -0.01206749677658081, 0.08550524711608887, -0.002716499613597989, 0.027882350608706474, -0.04388173669576645, -0.028274517506361008, 0.019206857308745384, -0.04362369701266289, 0.03981293365359306, -0.05630671605467796, 0.013733106665313244, 0.004010885488241911, -0.007014452014118433, -0.015191949903964996, 0.044015802443027496, 0.02723252773284912, 0.03328067436814308, 0.03218994662165642, -0.08189906179904938, -0.05927707999944687, 0.022222047671675682, -0.026907682418823242, 0.041594214737415314, -0.013776141218841076, 0.04106299579143524, 0.04053252935409546, -0.05586965009570122, 0.03603024780750275, -0.006356812082231045, -0.01650473102927208, -0.0010716785909608006, -0.007761185988783836, 0.05121588706970215, -0.03076707012951374, -0.03980468958616257, 0.02196664549410343, -0.00950629822909832, 0.026628127321600914, 0.035735707730054855, 0.05895012989640236, 0.005540558136999607, -0.0014158034464344382, -0.023117730394005775, 0.002412933623418212, -0.027117080986499786, -0.030110128223896027, -0.017169537022709846, -0.03586818650364876, -0.04034506902098656, 0.02022542990744114, 0.013183767907321453, -0.010526023805141449, 0.016533514484763145, -0.012269644998013973, -0.039368048310279846, 0.009125986136496067, -0.013484577648341656, 0.02736554481089115, 0.038867779076099396, -0.0036522094160318375, -0.021133925765752792, 0.0002259570173919201, -0.03126222640275955, -0.03470888361334801, -0.041291601955890656, 0.029109856113791466, 0.05449589341878891, -0.13207000494003296, 0.00959288701415062, -0.01371353305876255, 0.04406754672527313, -0.10382580757141113, 0.06366430968046188, 0.008609922602772713, 0.014903773553669453, 0.0008228204678744078, -0.022060010582208633, -0.0009559543686918914, -0.0004457450704649091, -0.012614332139492035, -0.047599565237760544, -0.02142275497317314, 0.04693179577589035, 0.025952907279133797, -0.010970480740070343, -0.016942063346505165, 0.007519906852394342, -0.0515509694814682, 0.04289965331554413, 0.0012812318746000528, -0.010466277599334717, -0.01648358441889286, -0.04980151355266571, 0.0439344123005867, 0.05843473598361015, -0.04441755264997482, 0.006899898871779442, 0.05391605570912361, 0.01757657527923584, 0.00708567863330245, -0.02187972702085972, -0.0018914302345365286, 0.010551332496106625, -0.05981415882706642, -0.03131238371133804, -0.027316851541399956, 0.03128967806696892, 0.05491167679429054, -0.01857287436723709, -0.021536093205213547, 0.06173628941178322, 0.007075320929288864, 0.020149439573287964, -0.04060407355427742, 0.023005304858088493, 0.02018948830664158, 0.018080340698361397, 0.03351608291268349, -0.022705908864736557, -0.05815372243523598, 0.030426466837525368, -0.014014204032719135, 0.029539823532104492, 0.01175351720303297, -0.07837338000535965, 0.027897240594029427, -0.04301063343882561, -0.07590093463659286, 0.049275077879428864, 0.07596061378717422, 0.0035449087154120207, 0.058153584599494934, 0.04697784408926964, -0.004000111483037472, -0.0040054661221802235, 0.025161512196063995, -0.09958119690418243, 0.033429112285375595, -0.0030180858448147774, 0.0301541518419981, 0.04549316316843033, -0.07252299040555954, 0.0401625856757164, -0.011675717309117317, -0.006197039969265461, -0.09541624039411545, -0.030112173408269882, -0.027496399357914925, -0.04448200762271881, 0.0015252139419317245, -0.06313176453113556, -0.08028813451528549, 0.045577794313430786, 0.03080437332391739, -0.004651447758078575, -0.002482399344444275, -0.018703557550907135, 0.035681433975696564, -0.08614858239889145, -0.00876673124730587, 0.0594232901930809, 0.07030336558818817, -0.0033551091328263283, 0.031428515911102295, 0.03355574235320091, 0.04473596438765526, -0.01827801577746868, 0.004337396007031202, -0.015607194043695927, 0.04826982691884041, 0.057810936123132706, -0.001555861090309918, -0.030791640281677246, 0.030699754133820534, 0.030509579926729202, 0.04373452439904213, -0.024643154814839363, -0.01987445168197155, 0.007256411947309971, 0.036175575107336044, -0.018671035766601562, -0.016977978870272636, 0.05282934382557869, 0.0017206284683197737, 0.03347207233309746, -0.06576970964670181, -0.03208167850971222, 0.004121771082282066, 0.008295026607811451, -0.0456412173807621, 0.03202257677912712, -0.022889766842126846, 0.055255647748708725, 0.04025784507393837, -0.029095686972141266, -0.0034428436774760485, -0.013821696862578392, -0.0006290187011472881, 0.025344399735331535, 0.01897941716015339, -0.04450944438576698, -0.047835271805524826, 0.032286643981933594, 0.06688253581523895, -0.008674764074385166, -0.0078002386726439, 0.0029288812074810266, -0.024229226633906364, -0.020965097472071648, -0.10920879244804382, -0.02943645417690277, 0.014771226793527603, -0.04474221169948578, -0.027101103216409683, -0.00391134899109602, 0.016809973865747452, 0.03118414245545864, 0.012417870573699474, 0.006597363855689764, -0.004446879494935274, -0.03451455757021904, -0.0012444995809346437, 0.05610332265496254, -0.04121514782309532, 0.047484319657087326, 0.039292119443416595, -0.05785391107201576, -0.04475882276892662, 0.019515272229909897, 0.03011130355298519, -0.008723472245037556, -0.028505481779575348, -0.007272552698850632, 0.035891275852918625, -0.07096100598573685, -0.0656752809882164, 0.0050381445325911045, 0.029002021998167038, 0.0040861512534320354, 0.007970667444169521, -0.022964438423514366, -0.04411721229553223, 0.04122122749686241, 0.021706610918045044, 0.01231299340724945, -0.01742343045771122, -0.015569908544421196, -0.011743778362870216, 0.05187196284532547, 0.0034444823395460844, -0.06667749583721161, 0.033514443784952164, -0.004397566895931959, -0.03664323687553406, 0.07483445852994919, 0.013754407875239849, -0.05057226121425629, -0.01695077121257782, -0.09138992428779602, 0.03946199268102646, -0.04915338382124901, 0.023239929229021072, -0.006957395002245903, -0.024937739595770836, 0.017981402575969696, -0.03917507454752922, 0.02727942354977131, 0.053908705711364746, 0.06702570617198944, 0.028734035789966583, 0.007152017205953598, 0.04486914351582527, -0.02895902283489704, 0.026786155998706818, 0.06713929027318954, -0.0037187915295362473, -0.021347135305404663, 0.040292881429195404, 0.0537431575357914, 0.002693125046789646, 0.03332357481122017, 0.041945986449718475, 0.03771016001701355, 0.010090659372508526, 0.016403380781412125, 0.013728410005569458, 0.049230240285396576, 0.05353642255067825, 0.05795262008905411, -0.03291391581296921, 0.012246065773069859, 0.028826143592596054, -0.004936632234603167, 0.029617251828312874, 0.006326150614768267, -0.047991231083869934, -0.0314917229115963, -0.039724234491586685, -0.0350666344165802, 0.0029980470426380634, -0.00944073498249054, 0.002625546185299754, 0.009905004873871803, -0.051864489912986755, 0.020404061302542686, 0.037554170936346054, 0.008659552782773972, 0.03738286346197128, 0.025447191670536995, -0.01326350774616003, 0.08062629401683807, 0.02103157341480255, -0.01990407705307007, -0.010063852183520794, -0.039378900080919266, -0.033222753554582596, 0.01412815973162651, 0.040027983486652374, -0.007603733334690332, -0.048935674130916595, -0.026779746636748314, -0.055940836668014526, 0.032178863883018494, 0.008226952515542507, 0.037613462656736374, 0.008176179602742195, -0.013784698210656643, -0.02169610559940338, 0.012726161628961563, -0.0063887047581374645, -0.008469505235552788, -0.006063786335289478, -0.011648557148873806, 0.011511399410665035, 0.02720397524535656, -0.012937535531818867, -0.013001527637243271, 0.03714554011821747, 0.021876607090234756, 0.024183347821235657, 0.00034334525116719306, -0.014456547796726227, 0.03244378790259361, 0.05786697939038277, 0.01250162348151207, 0.018398430198431015, -0.07320854812860489, -0.012430748902261257, -0.0185830220580101, -0.0023273020051419735, 0.01475081592798233, 0.011995472945272923, -0.002086276188492775, -0.029098553583025932, 0.0003422719892114401, -0.0248183012008667, -0.027820345014333725, -0.0032630637288093567, -0.011306856758892536, -0.03821907564997673, -0.08833768218755722, -0.026793189346790314, -0.049760326743125916, 0.010624800808727741, -0.020350584760308266, 0.046189628541469574, 0.030414246022701263, 0.07392589002847672, -0.019372913986444473, -0.06244366243481636, -0.04301825165748596, -0.002444399520754814, 0.023197608068585396, 0.024007247760891914, -0.06322123855352402, -0.01287077646702528, -0.010662700049579144, -0.01216284092515707, 0.046357735991477966, 0.008668706752359867, -0.039113618433475494, 0.0051805404946208, -0.03372695669531822, 0.04080526903271675, 0.045602183789014816, -0.005357237998396158, 0.01478150486946106, 0.006527629680931568, -0.01919984444975853, 0.013241958804428577, 0.012835318222641945, 0.03140280768275261, 0.021975290030241013, -0.018776843324303627, 0.009018335491418839, 0.016675874590873718, 0.001369623700156808, 0.048540160059928894, -0.05049965903162956, 0.027283579111099243, -0.0028078644536435604, 0.008748054504394531, 0.021666070446372032, 0.016653163358569145, -0.04643411189317703, -0.01941140554845333, 0.014926565811038017, -0.02046019956469536, -0.09302999824285507, -0.003575782058760524, 0.04369290545582771, 0.041822776198387146, -0.010473988950252533, 0.009133885614573956, -0.012657709419727325, 0.0009287652210332453, 0.030316511169075966, 0.009253769181668758, -0.0015812896890565753, 0.06608414649963379, 0.019765999168157578, -0.03604438155889511, -0.003431223100051284, -0.035975582897663116, 0.014951200224459171, -0.02881103754043579, 0.017110032960772514, 0.049587804824113846, 0.035319387912750244, 0.041922569274902344, 0.048373039811849594, 0.019633600488305092, -0.001700331224128604, 0.09818658232688904, 0.017709391191601753, -0.0038456241600215435, -0.04526814818382263, -0.004134724847972393, -0.057196035981178284, 0.010475846007466316, 0.01730351708829403, 0.0414520762860775, 0.01688297651708126, -0.012357554398477077, -0.013578484766185284, 0.06878910958766937, 0.01867086999118328, 0.05502761900424957, 0.027175819501280785, -0.030290093272924423, 0.04207977280020714, 0.0358545258641243, -0.07052731513977051, 0.008978046476840973, 0.030406517907977104, -0.004934772849082947, -0.03861329331994057, -0.063618503510952, -0.012805053032934666, 0.014555477537214756, -0.03869974985718727, -0.019009536132216454, -0.0416538380086422, -0.055331528186798096, 0.0031424814369529486, -0.040570881217718124, -0.004656635690480471, 0.01208339724689722, 0.03925536572933197, -0.014848951250314713, -0.0443880669772625, -0.019500238820910454, -0.020003771409392357, -0.03848792240023613, 0.06507270038127899, 0.0015844349982216954, 0.02422240376472473, 0.021176740527153015, -0.028045717626810074, 0.05064965412020683, -0.0317925326526165, -0.03930602967739105, -0.07486290484666824, -0.01479388028383255, 0.0029355690348893404, -0.0019088430562987924, -0.04621525853872299, 0.027924612164497375, 0.05362124368548393, 0.050888750702142715, -0.036344341933727264, 0.048304233700037, 0.020887788385152817, 0.04742923378944397, 0.004926566034555435, -0.027141014114022255, 0.054768603295087814, -0.04144102707505226, -0.005685137584805489, -0.030476532876491547, 0.0039458810351789, -0.031219489872455597, -0.04373829439282417, 0.021200401708483696, -0.018049390986561775, 0.0281700287014246, 0.03965520113706589, -0.05359501764178276, 0.053326960653066635, 0.00767337204888463, -0.023318665102124214, -0.014217005111277103, 0.05316475033760071, -0.034974586218595505, 0.06540809571743011, 0.04373134300112724, -0.07254518568515778, 0.04893838241696358, -0.009124577976763248, 0.045933179557323456, -0.034642960876226425, -0.027238616719841957, -0.030476994812488556, -0.04054109752178192, 0.050794344395399094, 0.02391611970961094, -0.04212759807705879, -0.07534076273441315, -6.366310844896361e-05, 0.023182036355137825, 0.029820144176483154, -0.046795088797807693, 0.010502484627068043, -0.008338825777173042, -0.025390883907675743, -0.002789236605167389, -0.05804824456572533, -0.03589879721403122, 0.010423409752547741, -0.03314540535211563, -0.022987091913819313, 0.019061507657170296, -0.04056210815906525, 0.003411141224205494, 0.010771587491035461, 0.05108224228024483, -0.03883637115359306, -0.038478486239910126, 0.04387344419956207, -0.03461189568042755, 0.017304113134741783, 0.016271570697426796, 0.021449007093906403, -0.02261817455291748, -0.016936613246798515, 0.023008648306131363, 0.02551332302391529, 0.08108694851398468, 0.055257320404052734, 0.018132725730538368, 0.023269105702638626, 0.07371918112039566, -0.02536519058048725, 0.014127026312053204, 0.007178997155278921, 0.043964847922325134, -0.0127545315772295, 0.02304653823375702, 0.03012644127011299, -0.0072417850606143475, 0.038240138441324234, 0.05566195771098137, -0.06769973039627075, -0.02431703917682171, -0.011705273762345314, -0.015895556658506393, 0.04498128220438957, -0.0512632392346859, 0.023802587762475014, 0.03478839248418808, -0.03949066996574402, -0.03042784333229065, 0.03115461952984333, -0.021378565579652786, 0.030925964936614037, 0.014232496730983257, -0.06564626842737198, 0.014602276496589184, 0.0034259427338838577, 0.044418953359127045, 0.002203109208494425, -0.018653307110071182, 0.019984489306807518, -0.05160260200500488, -0.04817415028810501, 0.013059317134320736, 0.017697295174002647, -0.011978445574641228, -0.009832914918661118, -0.07014454901218414, -0.06584887951612473, 0.06759365648031235, -0.028017006814479828, 0.007451176177710295, 0.002419142983853817, 0.011471282690763474]}}, {'_index': 'course-questions', '_id': 'C4pTxpAB65ah-_iDM-Si', '_score': 1.0, '_source': {'text': 'The course videos are pre-recorded, you can start watching the course right now.\\nWe will also occasionally have office hours - live sessions where we will answer your questions. The office hours sessions are recorded too.\\nYou can see the office hours as well as the pre-recorded course videos in the course playlist on YouTube.', 'section': 'General course-related questions', 'question': 'Is it going to be live? When?', 'course': 'machine-learning-zoomcamp', 'id': '39fda9f0', 'question_text_vector': [0.07066918909549713, -0.019305681809782982, 0.07738372683525085, 0.0237205158919096, 0.08639146387577057, -0.02046591229736805, 0.009155294857919216, 0.04655810818076134, -0.004781888332217932, -0.014374793507158756, -0.019750788807868958, -0.04513601213693619, 0.03479725867509842, -0.04379943385720253, 0.03876824676990509, -0.02019970677793026, -0.0011333365691825747, -0.04242271929979324, 0.030405331403017044, -0.032932527363300323, -0.008218318223953247, 0.002654725220054388, 0.03139915317296982, 0.04649357497692108, -0.04024378955364227, 0.057614099234342575, -0.019984450191259384, 0.029583750292658806, -0.008684714324772358, -0.009973452426493168, 0.00724730035290122, -0.051122747361660004, 0.07304612547159195, 0.0248600784689188, 0.047539856284856796, -0.01947418414056301, -0.06196580454707146, 0.061063673347234726, -0.007481675129383802, 0.040543604642152786, -0.0307619608938694, 0.015953704714775085, 0.020837638527154922, 0.011838982813060284, -0.03594519942998886, -0.015029799193143845, 0.04093657061457634, -0.004858599044382572, -0.03445998579263687, 0.032718561589717865, -0.011469538323581219, 0.04676853492856026, 0.08604792505502701, 0.003626607358455658, -0.03206362947821617, 0.0012408975744619966, 0.0633656308054924, -0.015553263016045094, -0.02408633753657341, 0.05285556986927986, -0.013590565882623196, 0.04799275100231171, -0.07033684104681015, 0.0023134727962315083, 0.016950014978647232, -0.05885123088955879, 0.015193515457212925, -0.04458584636449814, 0.05130225419998169, 0.004763748962432146, 0.005645429715514183, 0.05244890972971916, -0.009884556755423546, 0.007912633940577507, 0.006884887348860502, -0.03580966964364052, 0.030088186264038086, 0.050075482577085495, 0.002428291831165552, 0.0010142532410100102, 0.05288512259721756, 0.038870420306921005, 0.01780819706618786, -0.033909767866134644, -0.04829714074730873, 0.004054059274494648, -0.024224095046520233, -0.036499883979558945, -0.03657892346382141, -0.0006860243738628924, -0.032545942813158035, -0.012363946065306664, -0.020444154739379883, -0.029435323551297188, -0.04110613465309143, 0.012365901842713356, -0.01457295473664999, 0.008539682254195213, 0.014775312505662441, 0.033358216285705566, -0.03982239216566086, -0.021763021126389503, 0.044596172869205475, 0.010900666005909443, 0.0693785771727562, 0.07015705108642578, -0.019738519564270973, -0.050606273114681244, 0.015302916057407856, 0.08255597203969955, -0.01749599538743496, -0.007649967446923256, 0.055630553513765335, -0.04342109337449074, 0.00010549485159572214, 0.02612932212650776, 0.04052545875310898, 0.010589695535600185, -0.03379269689321518, -0.003022627905011177, -0.08592331409454346, -0.017514336854219437, 0.052003756165504456, 0.03872539475560188, 0.0032677589915692806, 0.011393774300813675, -0.058734484016895294, -0.029332973062992096, 0.0020345463417470455, -0.04724105820059776, -0.02534114196896553, -0.016107002273201942, 0.018637850880622864, 0.02468799240887165, 0.04242370277643204, 0.08468421548604965, -0.01693619415163994, -0.07469657808542252, -0.04806153476238251, 0.07079066336154938, 0.02409404143691063, 0.002764100208878517, 0.006624676752835512, 0.06180005520582199, -0.09360145777463913, -0.04424735903739929, -0.033496957272291183, -0.041155919432640076, -0.003360771806910634, -0.04325255751609802, -0.017750008031725883, -0.03774205967783928, -0.014610977843403816, -0.022695310413837433, 0.017593106254935265, 0.023624174296855927, 0.013874651864171028, 0.011829840950667858, -0.02450290322303772, -0.057121504098176956, 0.05520879104733467, 0.05700284615159035, 0.00683957664296031, 0.025814177468419075, -0.016292577609419823, 0.02320435456931591, -0.03918522223830223, -0.032587599009275436, 0.046225495636463165, -0.022517183795571327, -0.04867831990122795, 0.028016747906804085, 0.04314751178026199, 0.0031818037386983633, -0.060264114290475845, 0.049795761704444885, -0.021905770525336266, 0.02007870376110077, 0.0007242169813252985, -0.06499665975570679, -0.010762414894998074, -0.07982944697141647, 0.04534458369016647, -0.021581172943115234, 0.017269419506192207, -0.04485641047358513, 0.0516425222158432, 0.005486179143190384, -0.003992924466729164, 0.06699657440185547, 0.00789446197450161, 0.02108697034418583, -0.004771140869706869, -0.030367456376552582, 0.005182735621929169, -0.0454806424677372, -0.02186618186533451, 0.005478784907609224, -0.005134503357112408, 0.024532174691557884, 0.037289299070835114, 0.030012955889105797, -0.016875416040420532, -0.007096555549651384, -0.033128079026937485, 0.01711081527173519, 0.015751749277114868, -0.06913292407989502, -0.0022346547339111567, -0.06438829004764557, 0.027048828080296516, 0.007687648758292198, 0.03221053630113602, 0.043630894273519516, 0.023012660443782806, -0.004786066710948944, 0.017860841006040573, -0.030042538419365883, -0.013177044689655304, 0.008530469611287117, 0.017007915303111076, 0.016210459172725677, 0.0254499614238739, 0.022321214899420738, -0.04359181225299835, -0.05001383647322655, -0.06048575043678284, 0.031885214149951935, 0.006633793469518423, -0.04697953164577484, 0.010522489435970783, 0.005064596422016621, -0.019748613238334656, -0.023875700309872627, 0.03435247391462326, 0.0049754478968679905, -0.039783332496881485, -0.03383868187665939, 0.01755966991186142, -0.03749753534793854, 0.08583086729049683, 0.006880506873130798, 0.035128697752952576, -0.00029656634433194995, 0.0622059665620327, 0.001160688349045813, -0.020094778388738632, 0.03881217539310455, 0.027798155322670937, -0.03648807853460312, 0.04075366631150246, -0.10011685639619827, 0.0013869822723791003, 0.02926088124513626, -0.11458216607570648, 0.0198682751506567, -0.07514957338571548, -0.017031196504831314, 0.05509398505091667, -0.012250039726495743, 0.03561249375343323, 0.011036554351449013, -0.0019520147470757365, -0.00047636477393098176, -0.0018980061868205667, -0.08365194499492645, -0.0036177716683596373, -0.0351424477994442, -0.026133205741643906, 0.0211330633610487, 0.003960053902119398, -0.016782134771347046, 0.019569555297493935, -0.010278396308422089, 0.009200022555887699, -0.01820734329521656, -0.0208085048943758, -0.03110261633992195, 0.04963528364896774, -0.005943665746599436, 0.008632685989141464, -0.038244765251874924, 0.0017660317244008183, -0.004445583559572697, -0.028707683086395264, -0.0009315762436017394, -0.06870696693658829, -0.011482082307338715, -0.03828195109963417, 0.03129139915108681, -0.008968891575932503, 0.05454803630709648, 0.011468345299363136, 0.01717066578567028, 0.10371675342321396, -0.07797050476074219, 0.044814083725214005, -0.0776672437787056, -0.029143979772925377, 0.017741071060299873, 0.039905983954668045, 0.023198487237095833, 0.07028187066316605, -0.010254038497805595, 0.013067789375782013, -0.04318363592028618, 0.038849472999572754, -0.03869309276342392, -0.023585673421621323, -0.04204961657524109, -0.027375906705856323, 0.03514203056693077, 0.027669714763760567, -0.05759555846452713, 0.0014604704920202494, 0.018661892041563988, -0.04218527302145958, 0.001970707904547453, -0.03495124354958534, 0.02675030380487442, 0.005410660523921251, 0.015666689723730087, 0.0501587837934494, 0.06166804954409599, -0.041591934859752655, 0.046038512140512466, 0.017347628250718117, 0.02156093344092369, 0.036949675530195236, 0.01034628041088581, -0.020172154530882835, 0.0037564230151474476, 0.013744639232754707, -0.021483253687620163, -0.09149120002985, 0.03886127844452858, 0.03279472514986992, -0.08124413341283798, 0.0035865872632712126, -0.01290307566523552, -0.019318394362926483, 0.05002760514616966, -0.011522933840751648, -0.009526890702545643, 0.0255493875592947, -0.018386155366897583, -0.03940291330218315, -0.0752657800912857, -0.03253072127699852, -0.04230794310569763, -0.004534670151770115, 0.012441176921129227, -0.009098165668547153, 0.03299649432301521, 0.038281045854091644, 0.00012417140533216298, -0.027840277180075645, -0.021813705563545227, -0.025804145261645317, 0.034090761095285416, 0.05416443571448326, 0.01875246688723564, -0.04766058549284935, -0.03186609223484993, -0.025293942540884018, 0.03704933077096939, 0.063936248421669, -0.031292859464883804, 0.008437119424343109, -0.0005557489348575473, -0.06149417534470558, -0.06880911439657211, 0.04597378149628639, -0.006335919257253408, 0.026536600664258003, 0.05752457305788994, 0.01923000067472458, 0.03526744246482849, 0.04457376152276993, -0.0170663520693779, 0.024971885606646538, -0.015251382254064083, -0.04875698685646057, 0.03010639175772667, 0.08414983004331589, -0.0075585246086120605, 0.055534422397613525, 0.05823811516165733, 0.014339775778353214, 0.015092005021870136, 0.07988906651735306, 0.03348064050078392, 0.05108745023608208, -0.014065134339034557, 0.017511889338493347, 0.011488708667457104, 0.013830459676682949, 0.03350124880671501, -0.006634707096964121, 0.010374093428254128, -0.013880560174584389, 0.008628624491393566, -0.02142263762652874, 0.003801981918513775, 0.0008971308125182986, 0.03045709617435932, 0.05183471366763115, -0.0005173460231162608, -0.017627881839871407, -0.0007118720095604658, 0.03547098860144615, 0.003887790720909834, -0.006424855440855026, -0.05122219771146774, 0.01133593637496233, 0.0195607990026474, 0.01945829764008522, -0.01075198408216238, -0.031177185475826263, 0.062370676547288895, -0.005703715607523918, 0.030196327716112137, 0.021954767405986786, -0.028048286214470863, 0.028548313304781914, -0.023332983255386353, 0.049709826707839966, -0.014145190827548504, -0.03558077663183212, -0.008681084029376507, 0.03311601281166077, 0.0014160930877551436, -0.07080623507499695, 0.023061294108629227, -0.0014821625081822276, -0.03395937755703926, 0.020289594307541847, -0.0024927491322159767, -0.05374305695295334, 0.022809145972132683, -0.02551300637423992, 0.07915715873241425, 0.0219050832092762, 0.07123216241598129, 0.07876192778348923, -0.021990720182657242, 0.02025320567190647, -0.01862945221364498, -0.014370379038155079, 0.01270341221243143, 0.031470030546188354, 0.018382180482149124, 0.010138711892068386, -0.009228467009961605, -0.0498025044798851, 0.04122340306639671, -0.021726669743657112, -0.058959703892469406, 0.05581127852201462, 0.018325980752706528, -0.021517064422369003, 0.00011750458361348137, 0.011302419006824493, 0.013612257316708565, -0.06929031014442444, -0.026459187269210815, 0.004856835585087538, 0.0075395661406219006, 0.025183619931340218, 0.009975073859095573, -0.005946388002485037, 0.0028013582341372967, -0.023176398128271103, 0.02350897341966629, -0.01897275447845459, -0.008776013739407063, -0.01688285730779171, -0.05515103042125702, 0.019960088655352592, 0.022641493007540703, 0.024868492037057877, -0.04245100915431976, 0.0451681986451149, -0.034694310277700424, 0.05677543953061104, -0.02271031029522419, 0.024077240377664566, -0.008527180179953575, 0.04998831823468208, -0.06055686995387077, 0.009961321949958801, 0.008036538027226925, 0.022529587149620056, 0.03412463515996933, -0.0073975082486867905, 0.006390193942934275, 0.01575469598174095, 0.004236135631799698, 0.04674578830599785, -0.02542581781744957, -0.01771099679172039, -0.015967782586812973, -0.0003883740573655814, 0.0021963913459330797, 0.06143179535865784, 0.01010905671864748, -0.005765360314399004, 0.012451499700546265, -0.03232304006814957, -0.0010060123167932034, -0.03932977840304375, -0.012249292805790901, 0.007917900569736958, 0.011605755425989628, -0.007831074297428131, 0.0029354803264141083, 0.005193822085857391, -0.0004542987735476345, -0.04311828315258026, 0.052529532462358475, 0.005384355783462524, -0.0511879026889801, -0.07504548877477646, -0.03754517063498497, -0.01954890973865986, 0.008177477866411209, -0.00019494698790367693, 0.02776314876973629, 0.0048181177116930485, 0.05950230732560158, -0.027620181441307068, 0.012149345129728317, -0.05165606737136841, -0.028652701526880264, -0.013937744311988354, -0.01944597065448761, -0.03560716286301613, -0.03145113214850426, -0.003152851015329361, 0.049712128937244415, 0.044614557176828384, 0.05330786108970642, -0.05354267358779907, -0.012022706679999828, -0.08152840286493301, 0.0007151089957915246, 0.0006330128526315093, -0.02914339490234852, -0.006002059206366539, -0.03776104748249054, -0.011506352573633194, 0.004438893869519234, -0.002416166476905346, 0.04282946139574051, 0.04261869192123413, 0.024633102118968964, 0.0408523827791214, 0.0013585257111117244, 0.046241454780101776, 0.01848769187927246, -0.003317453432828188, -0.01178993284702301, -0.07022660225629807, -0.0805690810084343, 0.06396022439002991, 0.026617420837283134, -0.012201104313135147, 0.0017266715876758099, -0.035073161125183105, -0.07094871252775192, -0.0460674874484539, 0.010995314456522465, 0.01663408987224102, 0.04057848080992699, 0.04993543028831482, -0.051035020500421524, -0.01971566490828991, 0.06212884932756424, -0.029961273074150085, 0.006234871689230204, -0.03632669150829315, 0.014362342655658722, 0.0930425301194191, 0.03059711679816246, 0.005936883389949799, 0.03147882968187332, 0.010172990150749683, 0.04320558160543442, 0.0419439934194088, 0.0348590724170208, -0.07872436940670013, -0.003339253831654787, 0.01416018046438694, -0.0038245627656579018, 0.006092764437198639, 0.06511909514665604, -0.002193387132138014, 0.016397671774029732, 0.01658065803349018, 0.012073821388185024, 0.0031720506958663464, -0.04392233118414879, -0.020720774307847023, 0.032810721546411514, 0.006465896964073181, -0.01839268021285534, 0.08338446915149689, -0.013864480890333652, 0.0025522748474031687, 0.04079485684633255, -0.030830318108201027, 0.013793539255857468, -0.01791425794363022, 0.027662314474582672, -0.005306963808834553, 0.046578891575336456, 0.005500555504113436, -0.00036401429679244757, -0.05141676589846611, 0.0460389144718647, 0.029641883447766304, -0.0036940674763172865, -0.0026286414358764887, -0.04370911791920662, 0.011431829072535038, -0.02613091841340065, -0.07029398530721664, -0.04894384369254112, -0.00895613245666027, -0.06859356164932251, 0.007007087580859661, -0.002925124252215028, -0.03711789846420288, -0.01813521236181259, 0.021511444821953773, -0.03784584626555443, -0.03165312856435776, 0.0002499780966900289, -0.013504517264664173, 0.011376124806702137, -0.003720246022567153, 0.007562458515167236, -0.025304384529590607, -0.03990091755986214, -0.050232719630002975, -0.03762541338801384, 0.016465529799461365, -0.040023285895586014, 0.010814116336405277, 0.008808068931102753, 0.04813592880964279, -0.019237419590353966, 0.0069828275591135025, 0.009071435779333115, -0.024235235527157784, 0.014371930621564388, -0.045134011656045914, -0.05461379885673523, 0.015417768619954586, -0.07045982033014297, 0.03612694516777992, -0.04413026198744774, 0.014726754277944565, -0.03948803246021271, -0.03154979646205902, 0.03060334175825119, 0.018858715891838074, 0.06201174110174179, -0.018499191850423813, -0.04992486163973808, -0.004989624489098787, -0.017269518226385117, -0.03109404444694519, 0.043426841497421265, 0.02903793193399906, 0.0010162018006667495, 0.02977445162832737, 0.04167601093649864, -0.06314762681722641, -0.022711751982569695, -0.05783047899603844, -0.037044353783130646, 0.025790469720959663, -0.039231717586517334, -0.03411923721432686, 0.01628994569182396, 0.09806646406650543, 0.05445157364010811, 0.02496585249900818, 0.001214762101881206, -0.02017524093389511, -0.015982387587428093, 0.005584568250924349, -0.02603350766003132, -0.023554690182209015, 0.03767908364534378, -0.056889697909355164, 0.07298284024000168, 0.016737371683120728, -0.09823520481586456, 0.09108565747737885, -0.00295038940384984, 0.009582415223121643, -0.04119732230901718, -0.00997212529182434, -0.03390228748321533, 0.0479121059179306, -0.0036114375106990337, 0.01681559346616268, -0.048075903207063675, -0.003265202045440674, -0.02924886904656887, -0.029371686279773712, -0.035175904631614685, 0.043719422072172165, -0.008197777904570103, -0.0682736337184906, 0.03587382286787033, 0.036612071096897125, 0.01797247864305973, 0.0283978208899498, 0.009547298774123192, -0.010313916020095348, 0.06514960527420044, 0.01871204748749733, 0.004053692799061537, -0.025666870176792145, -0.045083560049533844, -0.03167830407619476, 0.01701373979449272, 0.02692878060042858, -0.01553710363805294, -0.006349849980324507, 0.020256726071238518, -0.04838496446609497, 0.004110919311642647, -0.0007757823332212865, -0.0023711631074547768, 0.020561592653393745, -0.023253560066223145, -0.01047285832464695, 0.041637860238552094, -0.019319899380207062, -0.01941888965666294, -0.024221301078796387, 0.042143870145082474, 0.03282029181718826, -0.03217140585184097, -0.041972361505031586, 0.05933479219675064, 0.03932151198387146, 0.00759618217125535, -0.00033664805232547224, 0.013342758640646935, 0.019656330347061157, -0.002864312846213579, 0.009659246541559696, -0.03529757633805275, 0.0065561095252633095, -0.020857984200119972, 0.022686131298542023, 0.00799290370196104, -0.042701661586761475, -0.03524114564061165, -0.043940480798482895, 0.04495561122894287, 0.01078551635146141, -0.023165948688983917]}}, {'_index': 'course-questions', '_id': 'DIpTxpAB65ah-_iDM-TC', '_score': 1.0, '_source': {'text': 'Everything is recorded, so you won’t miss anything. You will be able to ask your questions for office hours in advance and we will cover them during the live stream. Also, you can always ask questions in Slack.', 'section': 'General course-related questions', 'question': 'What if I miss a session?', 'course': 'machine-learning-zoomcamp', 'id': '5170565b', 'question_text_vector': [0.10229157656431198, -0.016632426530122757, 0.03414485231041908, 0.024418510496616364, 0.09016896039247513, -0.018433500081300735, 0.01966203562915325, 0.033811055123806, 0.005057327914983034, -0.03456110134720802, 0.0033910467755049467, -0.026095371693372726, 0.026919687166810036, -0.05803520604968071, 0.036692988127470016, -0.0477941557765007, -0.007804425433278084, -0.013375719077885151, 0.0028163224924355745, 0.031224695965647697, 0.024686476215720177, -0.022261546924710274, -0.008841192349791527, 0.020573794841766357, -0.010757620446383953, 0.0056336126290261745, -0.04755109176039696, 0.007403564639389515, 0.004019360523670912, -0.07328100502490997, -0.008922472596168518, -0.02492540143430233, 0.002679387805983424, 0.047185253351926804, 0.018158214166760445, -0.006576931569725275, -0.048874884843826294, 0.06978002935647964, -0.025316352024674416, 0.047987356781959534, -0.026037417352199554, 0.002760545117780566, 0.02096692845225334, -0.032411061227321625, -0.038078341633081436, -0.03131837770342827, 0.029623791575431824, -0.017630336806178093, -0.020327258855104446, 0.03810541331768036, -0.05674329027533531, 0.043950509279966354, 0.0963997021317482, 0.05154295265674591, -0.03785988315939903, -0.01372232474386692, 0.08087985217571259, -0.054306790232658386, -0.04043028503656387, 0.0581778883934021, -0.055108122527599335, -0.013701819814741611, -0.028089158236980438, -0.024910075590014458, -0.004919149912893772, -0.050842661410570145, 0.009032487869262695, -0.031338054686784744, 0.03291963040828705, 0.054144665598869324, 0.0012504805345088243, 0.02279527299106121, -0.04440124332904816, -0.05087972804903984, -0.01185594405978918, -0.032417070120573044, 0.022375592961907387, 0.02744664065539837, 0.034620705991983414, 0.02330303005874157, 0.024605097249150276, 0.08289888501167297, 0.056889936327934265, -0.02158287726342678, -0.02849266305565834, -0.040676526725292206, -0.015779612585902214, -0.06167762726545334, 0.024502428248524666, -0.02375001460313797, -0.02049185149371624, -0.004251519218087196, -0.006854174192994833, -0.07266253232955933, -0.03268776461482048, -0.027974948287010193, 0.010306724347174168, 0.00032431099680252373, -0.020724499598145485, 0.05090201273560524, 0.01165745034813881, -0.030880073085427284, 0.036663718521595, -0.030238399282097816, 0.05960395932197571, 0.06602393090724945, 0.010439559817314148, -0.09886472672224045, 0.02800549566745758, 0.09579247981309891, 0.005934608168900013, -0.011805473826825619, 0.09904789179563522, -0.04083186015486717, -0.017264271154999733, -0.014891497790813446, 0.013454626314342022, 0.0006432376685552299, -0.03511171042919159, -0.015921996906399727, -0.01988680101931095, 0.010596822015941143, 0.042441509664058685, 0.00036993270623497665, -0.013202108442783356, -0.020448969677090645, -0.020269393920898438, -0.03846394643187523, 0.00017695288988761604, -0.03050326555967331, -0.010191338136792183, 0.0006438582204282284, 0.022821715101599693, 0.04910237714648247, 0.049872759729623795, 0.06812988221645355, -0.0041568102315068245, -0.08574213832616806, -0.024697767570614815, -0.009195533581078053, 0.022142190486192703, 0.022455820813775063, -0.009313507936894894, 0.06200872361660004, -0.03452103212475777, -0.01974961906671524, -0.02157510258257389, -0.03441973030567169, -0.011716384440660477, -0.0767957791686058, -0.005895242560654879, -0.06457298994064331, 0.003756457008421421, -0.02584606595337391, 0.026589104905724525, -0.03666381165385246, -0.011327882297337055, 0.001955461222678423, 0.006185855250805616, -0.007500781677663326, 0.04799451306462288, 0.0247275922447443, 0.00834092777222395, 0.05186564847826958, -0.06229367107152939, 0.03978065773844719, 0.027866842225193977, -0.06389327347278595, 0.06375879049301147, 0.005523064639419317, -0.02942054532468319, 0.014240013435482979, 0.0510459840297699, -0.024091433733701706, 0.009876717813313007, 0.007619152311235666, 0.0497179739177227, 0.05855156108736992, -0.0466378852725029, -0.01917448081076145, -0.011425875127315521, -0.0590488575398922, 0.0013708560727536678, -0.010381103493273258, 0.030903682112693787, -0.0631880834698677, 0.0384184829890728, 0.04305323213338852, -0.04613463208079338, 0.03756943345069885, -0.014743238687515259, 0.03924369812011719, -0.02368244156241417, 0.038468047976493835, 0.017166679725050926, -0.07278281450271606, 0.014832640066742897, 0.05875704064965248, 0.021311596035957336, -0.0006959220045246184, 0.05802726745605469, 0.047060705721378326, -0.021805597469210625, -0.03459496423602104, -0.05844087153673172, 0.02776257134974003, -0.0010256747482344508, -0.03229469433426857, 0.004715785384178162, -0.050499867647886276, -0.01696750335395336, 0.022911135107278824, 0.006728453561663628, 0.03249659389257431, -0.06184229627251625, 0.013554527424275875, -0.032921697944402695, -0.01473319623619318, -0.0034971314016729593, -0.01040556374937296, 0.09000425785779953, 0.019407611340284348, 0.007818108424544334, 0.02899790182709694, -0.01473082136362791, -0.01969478279352188, -0.015881387516856194, 0.006240654271095991, 0.03631586208939552, 0.019916560500860214, 0.01305566355586052, -0.03616168722510338, -0.0033802958205342293, 0.003686687909066677, 0.0247417613863945, 0.04544190689921379, -0.041996244341135025, -0.01794516108930111, 0.017366722226142883, -0.034804146736860275, 0.034852128475904465, -0.017295874655246735, 0.011377442628145218, 0.026614803820848465, 0.009122981689870358, 0.017407182604074478, -0.04489780217409134, 0.03038707748055458, 0.056761570274829865, -0.012764079496264458, 0.02110927179455757, -0.04978448152542114, -0.02220243401825428, -0.015878336504101753, -0.06297796964645386, 0.005522824823856354, -0.0018167411908507347, 0.04322747141122818, 0.07364869117736816, -0.0027497918345034122, -0.004249786026775837, 0.017795760184526443, 0.017702318727970123, -0.004590619821101427, 0.003896747250109911, -0.05848196521401405, 0.019203856587409973, -0.06282514333724976, -0.03633660823106766, -0.015650438144803047, 0.04572844132781029, -0.024520035833120346, 0.017287934198975563, 0.04817720130085945, 0.008776320144534111, -0.04163189232349396, -0.011944321915507317, 0.0066846744157373905, 0.057010717689991, 0.022960636764764786, 0.006932821124792099, -0.029774824157357216, 0.033738765865564346, 0.03632183372974396, -0.05302564054727554, -0.044824495911598206, -0.025031421333551407, 0.036177098751068115, -0.07526317983865738, -0.0458173044025898, 0.03966577351093292, 0.015885744243860245, -0.007260638754814863, 0.03418584167957306, 0.09725826233625412, -0.01949920877814293, 0.06963099539279938, -0.023434700444340706, -0.007781443186104298, -0.009858410805463791, 0.02499951608479023, 0.019113775342702866, 0.05322972312569618, -0.033750660717487335, 0.07172147929668427, -0.04126914218068123, 0.03790056332945824, -0.07926291972398758, -0.013928393833339214, -0.06343329697847366, 0.007405145559459925, 0.002045254921540618, -0.011199752800166607, -0.03330346196889877, 0.004914658609777689, 0.03829147666692734, -0.03058598004281521, 0.019414592534303665, -0.04579105228185654, 0.018760312348604202, -0.0029963799752295017, 0.002783824224025011, 0.04932350665330887, 0.07001391053199768, -0.002756997710093856, 0.061896901577711105, 0.036751292645931244, -0.01325832586735487, 0.0012056680861860514, 0.08116701990365982, 0.00991874746978283, 0.041758328676223755, 0.009046162478625774, 0.028358206152915955, -0.05128423497080803, 0.06375568360090256, 0.035759396851062775, 0.014583938755095005, -0.008343769237399101, -0.013749081641435623, -0.01853959634900093, -0.03082135319709778, 0.017722424119710922, 0.03276696801185608, 0.029341911897063255, -0.046167537569999695, 0.019312288612127304, -0.0478120855987072, 0.024309134110808372, -0.03958762809634209, 0.014017838053405285, -0.029750017449259758, 0.00570592749863863, 0.061842214316129684, 0.008813497610390186, 0.02585398033261299, 0.008964232169091702, -0.027695778757333755, 0.007970078848302364, 0.017432449385523796, 0.023020245134830475, 0.006492419168353081, -0.06216685101389885, -0.02328699827194214, -0.042109839618206024, 0.03531642630696297, -0.028934478759765625, -0.0017736294539645314, 0.033238258212804794, -0.007326651364564896, -0.06702189892530441, -0.06905714422464371, 0.05229610949754715, -0.010444168001413345, 0.022036297246813774, 0.0013495414750650525, 0.013466989621520042, 0.04586347937583923, 0.03661661595106125, 0.05611668527126312, 0.01812228001654148, 0.006029084324836731, -0.03265072777867317, -0.029786894097924232, 0.0029238504357635975, 0.029102621600031853, 0.019960954785346985, 0.04782307520508766, 0.004233532585203648, -0.03540073707699776, -0.005390094593167305, 0.0176644716411829, 0.017581956461071968, -0.02588404156267643, -0.0070822881534695625, 0.013013457879424095, -0.08510041981935501, 0.04775093495845795, 0.028995821252465248, -0.04329162463545799, 0.02077547088265419, 0.019850682467222214, 0.010017664171755314, 0.04410742223262787, -0.05361974239349365, 0.026799404993653297, 0.03998551517724991, 0.027024472132325172, -0.0046546184457838535, 0.03158607333898544, 0.0276215597987175, 0.002240200061351061, -0.03216028958559036, 0.02005086839199066, -0.011968569830060005, 0.012944312766194344, -0.010709485970437527, -0.005449500400573015, -0.04765818268060684, 0.029741846024990082, -0.05719216912984848, 0.029514797031879425, 0.018704576417803764, -0.04189566895365715, 0.008304854854941368, -0.0024629193358123302, 0.018517358228564262, -0.08540470153093338, -0.025711582973599434, -0.022348344326019287, 0.0723305493593216, 0.030087338760495186, -0.042420823127031326, -0.00975571945309639, -0.03131205216050148, -0.08706862479448318, 0.026112185791134834, 0.032956838607788086, -0.032995548099279404, -0.0047478037886321545, 0.02684326469898224, 0.050308581441640854, 0.03135833516716957, 0.04481158405542374, 0.050404202193021774, -0.0009501182357780635, -0.027695447206497192, -0.01744942180812359, -0.006145676132291555, 0.045020245015621185, 0.02630947157740593, -0.01461365632712841, -0.038436856120824814, 0.043972961604595184, -0.08890873193740845, 0.008773612789809704, -0.03810539469122887, -0.0592300146818161, 9.257304191123694e-05, -0.04990183934569359, -0.04961391165852547, -0.056259509176015854, 0.008699696511030197, 0.04152066260576248, 0.0016614944906905293, -0.038817811757326126, 0.026502206921577454, 0.02845689281821251, 0.007355236914008856, -0.023388877511024475, -0.011795960366725922, -0.008256848901510239, -0.01000538095831871, 0.017128154635429382, -0.05098061263561249, -0.009628401137888432, 0.002944032661616802, -0.0731196478009224, 0.0057290284894406796, 0.02616967260837555, -0.0013778265565633774, -0.06411559879779816, 0.030117005109786987, -0.008497015573084354, 0.047578223049640656, -0.02284271828830242, -0.017922360450029373, -0.01152776088565588, 0.025384578853845596, -0.04067349061369896, 0.016542011871933937, -0.006357498932629824, 0.038525793701410294, 0.02002439647912979, 0.024014849215745926, 0.03341119363903999, -0.03484851121902466, -0.018115980550646782, -0.025473831221461296, 0.013682873919606209, 0.004666880238801241, -0.03814725577831268, 0.03702514246106148, 0.029413636773824692, 0.07126318663358688, 0.031128641217947006, -0.016581792384386063, 0.04329294711351395, -0.04013931751251221, -0.0457039400935173, -0.044091615825891495, 0.004382082726806402, -0.023073315620422363, 0.0073578013107180595, -0.007369509898126125, 0.01161317341029644, -0.013622292317450047, 0.009025863371789455, -0.060756511986255646, 0.03367004543542862, 0.004071488976478577, 0.012087776325643063, -0.02110396698117256, -0.05529903247952461, -0.07027149945497513, -0.003483081003651023, 0.014303138479590416, 0.009096120484173298, -0.013893668539822102, 0.023035144433379173, -0.00939475279301405, 0.01065140962600708, -0.029697228223085403, -0.044039204716682434, -0.0074138096533715725, -0.01364134345203638, -0.0445232130587101, -0.02042151428759098, 0.005752612836658955, 0.002279272535815835, 0.03359464928507805, 0.017802394926548004, -0.041922084987163544, 0.003002649173140526, -0.046081047505140305, 0.020795950666069984, 0.005109677091240883, -0.03264930471777916, -0.012221826240420341, -0.01938599906861782, -0.012766504660248756, -0.017222803086042404, -0.03349422663450241, 0.0047865272499620914, 0.04231724888086319, 0.02609543316066265, 0.027704281732439995, -0.00784096959978342, 0.05398298054933548, 0.048856791108846664, -0.005041783209890127, -0.002435727044939995, -0.053959425538778305, -0.02391483262181282, 0.04682379588484764, 0.003918228670954704, -0.008534508757293224, 0.021401911973953247, 0.02746693044900894, -0.054647624492645264, -0.008637027814984322, -0.005343244411051273, 0.008169536478817463, -0.013193855062127113, 0.022389380261301994, -0.06478405743837357, 0.01919763721525669, 0.053033247590065, 0.019230831414461136, 0.023897571489214897, -0.05490577965974808, 0.027306148782372475, 0.04817374795675278, 0.04840210825204849, 0.014518646523356438, 0.0175011046230793, 0.014239163137972355, 0.0041731614619493484, 0.002958013443276286, 0.0367826372385025, -0.06489631533622742, -0.002092069946229458, 0.0680096372961998, -0.02229933626949787, -0.01394636370241642, 0.061512723565101624, 0.043282702565193176, 0.04479292780160904, 0.004038023296743631, 0.02630794420838356, -0.014421269297599792, 0.0390508659183979, -0.0028832240495830774, 0.07479123771190643, -0.028759684413671494, -0.0016456296434625983, 0.03364761918783188, 0.04526780918240547, 0.009313817135989666, -0.0008830399019643664, 0.0014943595742806792, 0.006186753045767546, -0.003862149314954877, 0.04213418811559677, -0.0373883917927742, -0.019024817273020744, 0.04309995844960213, -0.04748045653104782, -0.033760491758584976, 0.06567647308111191, 0.006740380544215441, 0.04223485663533211, -0.055259887129068375, -0.015249854885041714, 2.9809460102114826e-05, -0.012392248958349228, -0.06145280599594116, -0.045315418392419815, -0.0032024793326854706, -0.07498491555452347, -0.011398215778172016, -0.01188124343752861, -0.03781578317284584, -0.010738542303442955, 0.005665121134370565, -0.011203770525753498, 0.01343764178454876, 0.057160183787345886, 0.02495431713759899, 0.070522241294384, 0.014637392945587635, -0.018948107957839966, -0.0016549256397411227, -0.053877636790275574, -0.03725506365299225, -0.019652657210826874, 0.020334787666797638, -0.0022572532761842012, -0.017690040171146393, 0.03374682366847992, 0.01120042335242033, -0.017603600397706032, 0.04998316243290901, 0.008045394904911518, 0.007541290018707514, 0.0065543157979846, 0.05211416259407997, -0.055439408868551254, -0.0025467118248343468, -0.036556463688611984, -0.012260940857231617, 0.0004208434256725013, 0.002490885090082884, -0.053868796676397324, -0.024570630863308907, 0.031996916979551315, 0.007404507603496313, 0.003922174219042063, -0.010113295167684555, -0.09135923534631729, 0.002810093341395259, -0.020425979048013687, 0.031207412481307983, 0.001184680499136448, 0.04817871376872063, -0.015762628987431526, 0.052347224205732346, 0.001633057021535933, -0.09187286347150803, 0.022711846977472305, -0.06615908443927765, 0.01346222497522831, -0.005344257224351168, -0.05668728053569794, -0.0025763290468603373, 0.03568972647190094, 0.0735355019569397, 0.0419694259762764, 0.06128039211034775, 0.0326286181807518, -0.012206869199872017, -0.01264609768986702, 0.0009184574009850621, -0.010672545060515404, -0.05018597096204758, -0.0256555937230587, -0.0075265527702867985, -0.0010253832442685962, -0.021579112857580185, -0.08411218225955963, 0.0324070006608963, 0.007817838340997696, 0.05634911730885506, -0.06610699743032455, 0.02957071363925934, 0.01913425512611866, 0.017072422429919243, 0.007524935994297266, -0.010011016391217709, -0.06371462345123291, 0.0039013265632092953, -0.03174825757741928, 0.060290656983852386, -0.022421954199671745, 0.00468979449942708, -0.05139795318245888, -0.08437356352806091, -0.009155905805528164, 0.01523177232593298, 0.037087369710206985, 0.022890478372573853, 0.03449641913175583, 0.025955619290471077, 0.05976121872663498, -0.009498716332018375, -0.01258359756320715, 0.003954155836254358, -0.029236188158392906, 0.059782013297080994, 0.017635377123951912, 0.0605870857834816, -0.016476497054100037, 0.007984410040080547, 0.06229815632104874, -0.03136669471859932, 0.011538215912878513, -0.017267117276787758, -0.022784462198615074, 0.01732487604022026, -0.022939089685678482, 0.02754450961947441, 0.01693364977836609, -0.06321748346090317, 0.03627839684486389, -0.027995768934488297, 0.02268323302268982, 0.04909299314022064, -0.019158342853188515, -0.04274837300181389, 0.00675309170037508, -0.0013191336765885353, 0.021606655791401863, -0.04740852117538452, -0.002203261712566018, 0.028901437297463417, -0.046035006642341614, -0.07875970005989075, -0.028521239757537842, -0.027170980349183083, -0.05309125781059265, 0.06848012655973434, -0.03132001310586929, -0.001142481341958046, 0.012708192691206932, -0.035255081951618195, 0.032153137028217316, -0.04317447543144226, -0.04574372246861458]}}, {'_index': 'course-questions', '_id': 'DYpTxpAB65ah-_iDM-Tk', '_score': 1.0, '_source': {'text': \"The bare minimum. The focus is more on practice, and we'll cover the theory only on the intuitive level.: https://mlbookcamp.com/article/python\\nFor example, we won't derive the gradient update rule for logistic regression (there are other great courses for that), but we'll cover how to use logistic regression and make sense of the results.\", 'section': 'General course-related questions', 'question': 'How much theory will you cover?', 'course': 'machine-learning-zoomcamp', 'id': 'ecca790c', 'question_text_vector': [0.00048460543621331453, 0.03596602752804756, 0.027250545099377632, 0.05927667394280434, 0.03184196725487709, -0.03115123324096203, -0.03190414607524872, -0.006977541837841272, 0.009380345232784748, -0.050749942660331726, 0.04556436091661453, 0.06164165586233139, 0.06104601174592972, -0.0768081471323967, 0.04364528879523277, 0.0052341497503221035, 0.02703239582479, -0.04527052864432335, 0.014800744131207466, 0.0066270604729652405, -0.00952323991805315, 0.11560358107089996, -0.04354378953576088, 0.023759178817272186, -0.007273276802152395, 0.014291364699602127, -0.012246238067746162, 0.05806878209114075, 0.019481182098388672, -0.0016169198788702488, -0.02982114627957344, -0.02791786938905716, -0.038627706468105316, 0.0350307896733284, -0.029040703549981117, 0.05638928338885307, -0.05116624757647514, 0.02774609439074993, 0.047342054545879364, 0.031300220638513565, -0.008161584846675396, -0.0006210631690919399, -0.04744395613670349, 0.038467537611722946, -0.04710400477051735, -0.01618391089141369, 0.021192843094468117, -0.0033343692775815725, 0.06889893114566803, -0.00025010405806824565, -0.027830665931105614, 0.059718064963817596, 0.011256491765379906, 0.02177060768008232, 0.014346975833177567, 0.037709664553403854, 0.07737944275140762, 0.021383320912718773, -0.006833132356405258, -0.03972974419593811, -0.024754565209150314, 0.0600980781018734, -0.015660356730222702, 0.03476079925894737, -0.03532044589519501, 0.01641349494457245, 0.024321774020791054, -0.01151371281594038, -0.022399740293622017, -0.04716752469539642, -0.026306193321943283, 0.024809837341308594, -0.0036877759266644716, -0.010626639239490032, -0.03934386000037193, -0.024156738072633743, -0.009965728968381882, 0.013983465731143951, -0.018971135839819908, 0.013621717691421509, 0.03103458322584629, -0.009759973734617233, 0.01726497896015644, -0.0026028743013739586, 0.06761172413825989, 0.08929656445980072, -0.0070738117210567, 0.03901970386505127, -0.0016083733644336462, 0.031837813556194305, -0.003456186270341277, -0.028934208676218987, 0.010623451322317123, -0.04303774982690811, 0.02826094999909401, -0.07751548290252686, -0.03618800267577171, -0.015316896140575409, -0.018540747463703156, -0.023997226729989052, -0.003908619750291109, 0.024532321840524673, -0.011587859131395817, 0.018586287274956703, -0.039607059210538864, 0.02122350037097931, 0.005001915153115988, -0.0003725978604052216, -0.029039844870567322, -0.03477426990866661, -0.04510045424103737, -0.019193466752767563, 0.02212718315422535, -0.020444704219698906, 0.013124048709869385, -0.05218861624598503, -0.02768063172698021, -0.02648785337805748, -0.0044847335666418076, 0.07407626509666443, -0.04234789311885834, -0.02438357286155224, 0.05159374326467514, 0.04026087000966072, 0.006450762506574392, 0.05823703482747078, 0.010377106256783009, 0.031158821657299995, 0.002866133814677596, -0.027783924713730812, -0.04357457906007767, -0.03503447026014328, 0.007996965199708939, 0.010221082717180252, -0.030478460714221, -0.023498890921473503, -0.010506522841751575, 0.04046788811683655, -0.02652060240507126, 0.07840615510940552, -0.043363720178604126, -0.06579802930355072, 0.047769300639629364, 0.01146077923476696, -0.026591680943965912, -0.06355448812246323, 0.023099811747670174, -0.013406363315880299, -0.00982443243265152, -0.03630963712930679, 0.006339594256132841, -0.05241844430565834, 0.027420826256275177, 0.021746380254626274, -0.013926958665251732, 0.05392802879214287, 0.01649749092757702, 0.06039368361234665, -0.03287051245570183, 0.025516124442219734, -0.01966051012277603, -0.02205793745815754, 0.03983154892921448, 0.017607374116778374, -0.007434570696204901, -0.03232164680957794, -0.014382398687303066, 0.05820625647902489, 0.013045977801084518, 0.05982571840286255, -0.050310321152210236, 0.0029856811743229628, -0.026745349168777466, -0.04013540595769882, -0.004944629967212677, -0.03144596517086029, 0.026828307658433914, 0.017596105113625526, 0.04079215228557587, -0.00998795684427023, -0.014564273878932, -0.029248887673020363, 0.007597723975777626, -0.0385369136929512, -0.021052362397313118, -0.01789141818881035, 0.026456043124198914, -0.06052623316645622, 0.031416818499565125, 0.061775244772434235, 0.008739356882870197, 0.01141387689858675, 0.033509254455566406, -0.011018113233149052, 0.019782133400440216, 0.01324792206287384, 0.033879540860652924, -0.008493619970977306, 0.02080574445426464, 0.06697718799114227, 0.034658562391996384, 0.024453500285744667, -0.04842602461576462, 0.04892091453075409, -0.04623151943087578, -0.05733628571033478, -0.025124862790107727, -0.016040552407503128, -0.01819615252315998, 0.010132187977433205, -0.0024534694384783506, 0.019966624677181244, -0.057676855474710464, -0.03983081877231598, -0.037638138979673386, 0.03583123907446861, -0.009552565403282642, 0.060644954442977905, 0.031150473281741142, 0.008719063363969326, 0.0058507900685071945, 0.02243071049451828, 0.031662728637456894, -0.03280419483780861, 0.08514049649238586, -0.023390967398881912, 0.04782338812947273, -0.051985204219818115, 0.011495557613670826, -0.05139859765768051, 0.03536830097436905, -0.03187799081206322, 0.05798248201608658, 0.03364349529147148, -0.013476752676069736, -0.0009050240623764694, -0.0461294911801815, -0.005434649996459484, -0.028826994821429253, 0.018029967322945595, -0.024450544267892838, -0.007224091794341803, -0.04683445021510124, 0.024128710851073265, 0.02300632931292057, -0.003280196338891983, -0.020806197077035904, -0.026511017233133316, -0.051173023879528046, 0.03748438134789467, 0.0007202038541436195, 0.019543850794434547, -0.0066652195528149605, 0.04699458181858063, -0.04370450973510742, -0.022030457854270935, -0.03069586493074894, -0.0003184198576491326, 0.08145617693662643, -0.006284975912421942, -0.006580463144928217, 0.01810460165143013, 0.013250691816210747, -0.014906422235071659, 0.016003992408514023, -0.04222052916884422, -0.029518764466047287, -0.06296040862798691, -0.037973999977111816, 0.03521217405796051, -0.008531161583960056, 0.0045608836226165295, 0.059977736324071884, 0.0369638092815876, 0.06109541282057762, -0.04628458619117737, 0.05653524026274681, -0.005780407227575779, -0.02961973287165165, 0.0048101902939379215, 0.01843922957777977, 0.04610501229763031, -0.010486377403140068, 0.01213562861084938, -0.015537170693278313, 0.012749077752232552, -0.02105245366692543, 0.0010491684079170227, 0.06508075445890427, -0.012535086832940578, -0.00234766467474401, -1.7001835658447817e-05, 0.01317888405174017, -0.01286022923886776, -0.009174130856990814, 0.02433192916214466, -0.017134396359324455, -0.008594801649451256, 0.0067212022840976715, 0.020822521299123764, -0.02826409600675106, 0.02015370875597, 0.0225661713629961, 0.024397512897849083, -0.035070210695266724, -0.00969711784273386, 0.02151545323431492, 0.06196249648928642, -0.01697200909256935, -0.01590888574719429, 0.03089778497815132, 0.03753146901726723, -0.027173973619937897, 0.01399657130241394, 0.006016499362885952, 0.0064522926695644855, -0.04935823008418083, -0.04227888211607933, -0.06397399306297302, 0.05266264081001282, -0.015205034986138344, 0.007577789016067982, 0.022655541077256203, 0.03435135632753372, -0.007013301365077496, 0.02534807100892067, 0.002964868675917387, 0.021964363753795624, -0.010154777206480503, 0.0014735328732058406, -0.028561396524310112, 0.0581238754093647, -0.0361686572432518, 0.0228729248046875, -0.050066426396369934, -0.005253487732261419, -0.030988387763500214, 0.0002846622373908758, -0.0258366446942091, -0.09719231724739075, -0.027444416657090187, -0.004636569879949093, -0.008080258034169674, -0.03846525773406029, -0.02999439649283886, 0.03366309776902199, -0.03100605495274067, 0.01010910328477621, -0.07170893251895905, 0.019585097208619118, -0.046422481536865234, 0.004328698385506868, 0.06715675443410873, -0.03245178610086441, 0.03573198243975639, 0.04157816618680954, -0.040463075041770935, -0.01681450568139553, -0.06876043975353241, -0.019401803612709045, 0.023014599457383156, -0.043069545179605484, -0.015258904546499252, -0.09109313786029816, -0.01345699094235897, 0.016049576923251152, 0.008919048123061657, -0.05266976356506348, 0.024783369153738022, 0.0167230237275362, 0.04298831894993782, 0.014480112120509148, 0.0024948965292423964, 0.05707572028040886, -0.01706875115633011, -0.027520453557372093, -0.04188668727874756, -0.046042151749134064, 0.012816829606890678, 0.022390073165297508, -0.016122648492455482, 0.004092215560376644, -0.04896567016839981, -0.06446563452482224, 0.019944196566939354, -0.0026096536312252283, 0.035996172577142715, 0.020878249779343605, 0.07763426005840302, -0.015516635961830616, -0.04614027217030525, 0.04815857484936714, -0.01765969581902027, -0.0048887538723647594, -0.030439278110861778, -0.025956690311431885, -0.05000762268900871, 0.04294790327548981, 0.025385240092873573, 0.01151775661855936, 0.015041395090520382, -0.04976953938603401, 0.03731345012784004, 0.022636614739894867, -0.03774843364953995, 0.00922172237187624, 0.019577575847506523, -0.04158923029899597, 0.011701734736561775, -0.054445985704660416, 0.010656135156750679, 0.024700764566659927, 0.0050703855231404305, -0.008970735594630241, 0.04376618564128876, 0.005352927837520838, -0.012268082238733768, -0.04019859433174133, -0.0006316023063845932, 0.012448682449758053, 0.024061162024736404, 0.050882384181022644, -0.01026917528361082, 0.0399659089744091, -0.10131090134382248, -0.08851347863674164, -0.028134368360042572, -0.022030778229236603, -0.00020129777840338647, -0.026122240349650383, 0.020312272012233734, 0.02439075894653797, 0.04769286885857582, 0.042474087327718735, 0.10583962500095367, 0.011106081306934357, -0.001312943291850388, -0.02853330411016941, 0.04331358149647713, -0.00018062247545458376, -0.013726899400353432, 0.001425689784809947, -0.018815919756889343, -0.04388811066746712, 0.04000113904476166, 0.016538232564926147, 0.012733959592878819, -0.011093053966760635, 0.043995559215545654, 0.0142145911231637, 0.03330361470580101, -0.027259714901447296, 0.019685331732034683, -0.033074527978897095, -0.0002944456064142287, 0.05160992220044136, 0.04205022007226944, -0.010107154957950115, 0.035460490733385086, -0.023071255534887314, 0.0352233424782753, 0.03157398849725723, 0.018231874331831932, -0.015410692431032658, 0.012664282694458961, 0.015984350815415382, 0.04618997126817703, -0.022512827068567276, 0.03459973260760307, -0.01429365947842598, 0.017480356618762016, 0.0006109192036092281, -0.050912242382764816, -0.01700638048350811, -0.09302294254302979, -0.067545585334301, 0.013391297310590744, 0.023748092353343964, 0.02328026108443737, -0.011660495772957802, -0.03646116331219673, -0.09071231633424759, 0.0028783525340259075, 0.001758559956215322, 0.025179225951433182, -0.03201363608241081, -0.003628199454396963, 0.006297163665294647, 0.013968447223305702, -0.033186815679073334, 0.02088080905377865, 0.0676591619849205, -0.04721763730049133, 0.0013089727144688368, 0.0005018374067731202, 0.002666421700268984, -0.042672447860240936, 0.07149399071931839, 0.02962896041572094, 0.08477641642093658, 0.024173678830266, 0.0062601566314697266, 0.01958777755498886, 0.04695815220475197, 0.0003416393301449716, -0.03461669385433197, -0.04723602533340454, -0.021439827978610992, -0.04590631276369095, 0.020259691402316093, 0.029719151556491852, 0.04103722795844078, 0.05813898146152496, -0.023435035720467567, 0.014995183795690536, -0.022740602493286133, -0.033971671015024185, 0.019852343946695328, -0.03376084193587303, 0.049402691423892975, -0.06804286688566208, 0.011724677868187428, -0.04016010835766792, -0.00010161678801523522, -0.013848112896084785, 0.012608912773430347, -0.04340406879782677, 0.024952111765742302, -0.011254404671490192, 0.010056251659989357, -0.01084505021572113, -0.010736333206295967, -0.01007432397454977, 0.00789216160774231, 0.011352846398949623, 0.004505585879087448, 0.02456827089190483, -0.017567429691553116, -0.0537513867020607, 0.006750504486262798, -0.006248348392546177, -0.02101723663508892, 0.013781515881419182, 0.02043667994439602, -0.0033985970076173544, 0.04293164983391762, 0.024554874747991562, -0.03363700956106186, -0.06904333084821701, 0.034410204738378525, -0.05212629586458206, -0.022782087326049805, 0.042797449976205826, -0.07022520154714584, 0.019968051463365555, -0.0007790881209075451, -0.0845201313495636, -0.050847526639699936, -0.01026891078799963, -0.0306461900472641, -0.043197549879550934, 0.08850539475679398, -0.07841233164072037, 0.0526764914393425, 0.004481288138777018, -0.05795297026634216, 0.06337859481573105, 0.002059028949588537, 0.0037859820295125246, -0.003309951163828373, -0.04870875924825668, -0.041927654296159744, 0.03410518914461136, 0.004918823018670082, -0.05263222008943558, -0.050411999225616455, -0.013744248077273369, -0.002977849217131734, 0.02677689865231514, -0.06621133536100388, -0.030087169259786606, -0.0132522564381361, 0.03876228630542755, -0.01283230073750019, 0.039222944527864456, 0.0143685108050704, 0.05743775516748428, 0.04334744065999985, 0.008117448538541794, -0.010947037488222122, 0.03382958099246025, -0.08484303951263428, 0.014710898511111736, -0.04025651887059212, -0.00217201909981668, -0.009268605150282383, 0.004978600889444351, 0.014523468911647797, -0.06681592017412186, -0.007101681083440781, 0.0294040460139513, 0.012793920934200287, 0.05282393842935562, -0.012813616544008255, 0.008707061409950256, -0.0313592292368412, 0.0480634979903698, 0.0426880344748497, 0.01948266290128231, 0.12026142328977585, 0.011046184226870537, 0.10668043047189713, 0.051982127130031586, 0.060042623430490494, 0.005978978238999844, 0.01545149739831686, 0.04491525515913963, 0.027636563405394554, -0.0516996793448925, 0.027917934581637383, -0.07164404541254044, 0.010746024549007416, -0.017044028267264366, 0.05260305479168892, -0.03411458060145378, -0.055237721651792526, -0.029649393633008003, 0.046216852962970734, -0.02303278259932995, 0.05353054776787758, 0.05656440928578377, 0.018886253237724304, 0.0270108450204134, -0.011989952996373177, -0.06962835043668747, 0.0030623150523751974, 0.02799663133919239, 0.011198396794497967, -0.014232839457690716, 0.03465711697936058, 0.02312978357076645, 0.03988209739327431, 0.029748670756816864, -0.012202785350382328, 0.05070414021611214, 0.009257580153644085, 0.026178698986768723, -0.008843693882226944, -0.019392775371670723, -0.03296169638633728, 0.048184022307395935, -0.037759289145469666, -0.010688734240829945, 0.03638599440455437, 0.012472080066800117, -0.031907692551612854, -0.03959771245718002, 0.05466756224632263, 0.007071355357766151, -0.013453556224703789, -0.011633570306003094, -0.06909040361642838, 0.012635298073291779, 0.044338408857584, 0.060980409383773804, -0.020828159525990486, -0.043855853378772736, -0.0031774563249200583, 0.05371560528874397, 0.00013529990974348038, 0.00659926375374198, -0.030642295256257057, -0.0006707701249979436, 0.038964156061410904, 0.0264165960252285, -0.04219141975045204, -0.011199946515262127, 0.054694321006536484, -0.01151222549378872, 0.045792434364557266, 0.004944709595292807, 0.04292675107717514, -0.01442303229123354, -0.07361424714326859, 0.018123388290405273, -0.01655760034918785, -0.04085061699151993, 0.039070188999176025, 0.04375440254807472, -0.03651118651032448, -0.07131677865982056, -0.01001709420233965, 0.004555488470941782, -0.07047353684902191, -0.04387510567903519, 0.07218173146247864, -0.04388763755559921, 0.03620470315217972, 0.015873512253165245, -0.023435261100530624, 0.025078995153307915, -0.03374982997775078, -0.0012156595475971699, 0.025186732411384583, -0.01194677222520113, 0.01585783250629902, 0.049639053642749786, -0.030326973646879196, -0.015289407223463058, -0.055019281804561615, -0.014847428537905216, -0.00828136783093214, -0.0010703245643526316, -0.012933854945003986, -0.021214215084910393, 0.01979278028011322, -0.015287982299923897, -0.021069783717393875, -0.05580078810453415, 0.015306311659514904, -0.04916829243302345, 0.0182163305580616, 0.006502685137093067, 0.035701021552085876, -0.010530716739594936, 0.020605305209755898, -0.004212455824017525, 0.012760808691382408, 0.020470719784498215, 0.003008695086464286, -0.018532920628786087, -0.021969160065054893, 0.06692271679639816, 0.025580517947673798, -0.09151129424571991, -0.015207821503281593, 0.009612899273633957, -0.05188071355223656, 0.029392676427960396, 0.021554255858063698, -0.02024523727595806, 0.06234892085194588, -0.0010158069198951125, 0.06012580171227455, -0.04839668422937393, -0.002723749028518796, -0.014486981555819511, 0.013014482334256172, -0.05809666961431503, -0.08082300424575806, 0.0343264564871788, 0.018233435228466988, -0.048073433339595795, -0.05672890320420265, -0.00826899241656065, 0.05564050376415253, 0.0279197096824646, 0.029739445075392723, -0.020156221464276314, 0.06721929460763931, -0.02267155610024929, -0.013185713440179825, -0.003494212869554758, 0.03405191749334335, -0.011191935278475285, -0.02787094935774803, -0.02346436120569706, 0.0388626828789711]}}, {'_index': 'course-questions', '_id': 'DopTxpAB65ah-_iDNOQA', '_score': 1.0, '_source': {'text': \"Yes! We'll cover some linear algebra in the course, but in general, there will be very few formulas, mostly code.\\nHere are some interesting videos covering linear algebra that you can already watch: ML Zoomcamp 1.8 - Linear Algebra Refresher from Alexey Grigorev or the excellent playlist from 3Blue1Brown Vectors | Chapter 1, Essence of linear algebra. Never hesitate to ask the community for help if you have any question.\\n(Mélanie Fouesnard)\", 'section': 'General course-related questions', 'question': \"I don't know math. Can I take the course?\", 'course': 'machine-learning-zoomcamp', 'id': 'c25b3de4', 'question_text_vector': [0.021999726071953773, 0.024152057245373726, 0.014604873955249786, 0.021345047280192375, 0.02300075814127922, -0.08116783946752548, -0.039415355771780014, 0.025447413325309753, 0.010294115170836449, 0.027335956692695618, 0.02338740974664688, -0.018144778907299042, -0.015998508781194687, -0.019650209695100784, -0.005812389776110649, -0.010295860469341278, -0.01628282479941845, -0.05037159100174904, -0.0020395852625370026, -0.024407166987657547, 0.025155290961265564, 0.041324883699417114, 0.025919578969478607, 0.0061646029353141785, -0.010742608457803726, 0.016572512686252594, -0.010586212389171124, 0.05049585551023483, -0.006797922775149345, 0.042404934763908386, 0.014201854355633259, 0.008549059741199017, 0.006401537451893091, -0.01815440133213997, -0.03302450105547905, 0.05470697581768036, -0.018793784081935883, 0.00977583322674036, 0.08731865137815475, -0.00015350258036050946, -0.02729182131588459, 0.009454798884689808, -0.029873782768845558, -0.010442744940519333, -0.0153072914108634, -0.04919254407286644, 0.0037535447627305984, 0.013460557907819748, -0.012838345021009445, -0.02146817371249199, 0.008469847962260246, 0.035963498055934906, 0.042206764221191406, 0.052148301154375076, -0.010248794220387936, 0.046811774373054504, 0.01426930632442236, 0.01196700893342495, 0.006089314352720976, 0.027391990646719933, 0.02409331500530243, 0.09793320298194885, -0.06277499347925186, 0.005286626983433962, -0.02036862075328827, 0.013953042216598988, 0.03393007814884186, 0.03270011022686958, 0.012729234993457794, -0.03041701763868332, 0.015339422971010208, 0.022810859605669975, -0.031894125044345856, -0.020818796008825302, 0.0488094724714756, -0.037483181804418564, 0.07806189358234406, -0.014589418657124043, -0.021661419421434402, -0.03528052568435669, 0.0879066213965416, 0.0019458387978374958, -0.014705409295856953, -0.01890680193901062, -0.010707909241318703, 0.038561418652534485, -0.045105136930942535, 0.011506310664117336, -0.024371547624468803, -0.003449021838605404, 0.01760348677635193, -0.018747860565781593, 0.008927014656364918, -0.05063527822494507, -0.0034875362180173397, -0.07442057132720947, -0.04307655245065689, 0.02536594681441784, -0.0030676748137921095, -0.03624852001667023, -0.0242343507707119, 0.017339346930384636, 0.013688486069440842, -0.02787306345999241, 0.030689850449562073, -0.01658371090888977, -0.014264206402003765, -0.003920343704521656, 0.054917436093091965, 0.0021361263934522867, 0.019767967984080315, -0.03080562688410282, 0.03164899721741676, -0.05563167855143547, -0.022254591807723045, 0.0438130646944046, 0.03939783200621605, -0.0339742973446846, -0.007453962229192257, 0.03324050456285477, -0.08940072357654572, 0.026911873370409012, 0.03752171993255615, 0.02136497013270855, 0.018938371911644936, 0.0791688784956932, -0.03046298213303089, 0.012431183829903603, -0.013292394578456879, -0.052643146365880966, 0.013653323985636234, -0.04723693057894707, 0.017634807154536247, 0.030457835644483566, -0.03517960384488106, 0.011832917109131813, -0.06419984996318817, -0.04071750119328499, -0.032480914145708084, 0.06295578926801682, -0.062026385217905045, -0.0027480581775307655, 0.014973725192248821, -0.0015599435428157449, -0.01587938331067562, -0.024596845731139183, -0.030324099585413933, 0.02950850874185562, -0.036215342581272125, 0.01958499662578106, 0.015588671900331974, -0.05367376282811165, 0.03325866162776947, -0.015532354824244976, 0.0365140363574028, 0.01921113394200802, 0.033868830651044846, 0.045638035982847214, -0.03570900857448578, -0.024307675659656525, -0.01804754137992859, 0.023484310135245323, 0.02906773053109646, -0.004024007357656956, -0.0591883510351181, -0.04205481335520744, 0.0026070536114275455, 0.02026223950088024, -0.0008327673422172666, -0.020263560116291046, -0.038265328854322433, -0.03521890565752983, 0.022680824622511864, -0.049942512065172195, 0.013366051949560642, -0.02972126193344593, -0.021358579397201538, 0.06344996392726898, 0.0364178828895092, -0.0633685514330864, -0.05750151351094246, -0.01940026879310608, -0.0008851737948134542, -0.09137023240327835, 0.00953940860927105, 0.005318190436810255, 0.01407397910952568, 0.0188530832529068, 0.01428422424942255, -0.008944408036768436, 0.009183956310153008, 0.04418273642659187, -0.0352502204477787, 0.04694514349102974, 0.02975616231560707, -0.03904520720243454, -0.016222242265939713, 0.00048614252591505647, 0.0052497065626084805, 0.04119716212153435, 0.020694708451628685, 0.05951296165585518, -0.004549764096736908, 0.04482449218630791, 0.08229435235261917, -0.005433376412838697, -0.031187821179628372, -0.01676522195339203, 0.0135270981118083, -0.039077721536159515, 0.08546311408281326, 0.014395656064152718, 0.04162080958485603, -0.0057977065443992615, 0.0299640204757452, 0.04765457287430763, -0.06009005010128021, 0.04301263019442558, 0.01366058923304081, 0.014119228348135948, 0.052774153649806976, -0.02729221247136593, -0.013691019266843796, -0.06760996580123901, -0.00822401698678732, -0.03430437296628952, -0.017111627385020256, -0.010548468679189682, 0.032346341758966446, -0.07474533468484879, -0.04429394006729126, -0.02852620743215084, 0.030402790755033493, -0.0084116505458951, -0.021419420838356018, 0.014585759490728378, -0.0347471609711647, 0.03028387390077114, 0.04205840826034546, -0.02500489540398121, 0.013775496743619442, 0.024339165538549423, -0.019168831408023834, -0.0193663127720356, 0.03569115325808525, -0.041770290583372116, -0.012390806339681149, -0.018931275233626366, -0.013951483182609081, -0.11142423003911972, 0.03767383098602295, -0.04228823259472847, -0.010995968244969845, -0.028818204998970032, -0.054480765014886856, 0.04259030893445015, 0.004593068268150091, -0.009999127127230167, 0.08991286158561707, 0.027692660689353943, -0.015549805015325546, 0.050740212202072144, 0.025647535920143127, -0.04272812232375145, 0.0007455914746969938, 0.01670307107269764, -0.06168859824538231, -0.08677665889263153, -0.0024681035429239273, 0.05305138975381851, 0.02711014449596405, 0.00609300471842289, 0.06900309771299362, -0.029796648770570755, 0.017132258042693138, 0.012072294019162655, 0.021542856469750404, -0.006131249014288187, -0.01600319892168045, -0.0027066676411777735, 0.013401481322944164, 0.004998604767024517, 0.05473050847649574, 0.0076545183546841145, -0.008492368273437023, 0.07794447988271713, -0.012134912423789501, 0.04278402030467987, 0.07451076060533524, -0.0037384419701993465, 0.039863359183073044, 0.03396323323249817, 0.005988167133182287, 0.02672942355275154, 0.012120475061237812, 0.01755298487842083, -0.018115630373358727, -0.04193875938653946, 0.051598940044641495, 0.02416347526013851, -0.013397754170000553, 0.06515701860189438, -0.02152290567755699, -0.009149043820798397, -0.03142004832625389, 0.014344139955937862, 0.028955938294529915, 0.035272203385829926, -0.005177181214094162, -0.054459910839796066, -0.04119480401277542, 0.0299675352871418, 0.004492940381169319, -0.04978921636939049, -0.05885645002126694, 0.014325178228318691, -0.030385224148631096, -0.01757875829935074, -0.03746114671230316, 0.041963040828704834, 0.0009397006360813975, -0.00842456053942442, 0.09412004053592682, 0.03898221254348755, 0.004338136874139309, 0.01675274781882763, 0.001645052107051015, 0.05993880331516266, 0.040203507989645004, 0.01957635208964348, 0.007402279879897833, 0.021674660965800285, -0.006207736674696207, -0.005057613365352154, -0.02522268518805504, 0.017736079171299934, -0.03922053053975105, -0.002294589765369892, -0.025943348184227943, -0.016317524015903473, 0.008479198440909386, 0.039996568113565445, 0.024334924295544624, -0.022317396476864815, 0.00448102131485939, 0.02751740626990795, 0.030230967327952385, 0.006512864958494902, -0.044591810554265976, -0.013902201317250729, -0.007922245189547539, -0.05757995694875717, 0.030619703233242035, -0.016963163390755653, 0.08103080093860626, 0.008247697725892067, -0.04533678665757179, -0.06302141398191452, -0.01660347543656826, -0.026389766484498978, 0.04495801031589508, -0.04196975752711296, -0.022622903808951378, -0.03722497448325157, -0.032589271664619446, 0.036026254296302795, 0.04322107508778572, -0.03971181809902191, 0.025955339893698692, 0.010478897020220757, 0.04691198468208313, -0.026156453415751457, -0.04571155458688736, 0.004485778976231813, -0.007355204317718744, -0.04390202835202217, -0.0742088332772255, 0.017447059974074364, -0.0075126285664737225, -0.00909449253231287, -0.02423592284321785, 0.00830837246030569, 0.028405265882611275, 0.0236298069357872, 0.0070567005313932896, -0.03343171253800392, 0.07085432857275009, 0.040319327265024185, -0.009795347228646278, -0.027773693203926086, -0.008502229116857052, 0.09111978113651276, 0.00959794968366623, 0.004846035502851009, -0.022851301357150078, -0.009336824528872967, -0.04258554428815842, -0.06209498271346092, -0.010922016575932503, -0.01031599473208189, -0.039841558784246445, 0.0012929494259878993, 0.04499172419309616, 0.006110770627856255, 0.008413542993366718, 0.02678178809583187, 0.06691600382328033, -0.022081458941102028, 0.03264760971069336, -0.03839164972305298, 0.02820260263979435, -0.06392690539360046, 0.007768452167510986, -0.0824570506811142, -0.009672998450696468, -0.022375190630555153, 0.07260991632938385, -0.04138597846031189, 0.013170924037694931, 0.024559278041124344, -0.012731092050671577, 0.006548713892698288, -0.05031943321228027, 0.07439862191677094, 0.014962575398385525, -0.018054110929369926, -0.04362976551055908, 0.02364843338727951, -0.07114233821630478, -0.03586478903889656, 0.025309057906270027, 0.040920425206422806, 0.018388541415333748, 0.027897555381059647, 0.019232042133808136, 0.018734553828835487, -0.04149610549211502, 0.030760429799556732, 0.016372565180063248, 0.03829463943839073, 0.005017199087888002, 0.00821566954255104, 0.042973991483449936, -0.014895196072757244, -0.006140002980828285, -0.02928408421576023, 0.0048880791291594505, -0.059789761900901794, 0.0130891939625144, 0.005390483886003494, 0.04342533275485039, -0.011711792089045048, -0.000779707741457969, -0.012991340830922127, -0.026683324947953224, 0.04058316722512245, -0.05434874817728996, -0.061063412576913834, -0.006345472298562527, 0.02790255844593048, 0.01573256589472294, 0.03523428738117218, -0.015180309303104877, -0.019986338913440704, -0.022410577163100243, 0.022167446091771126, 0.06820382177829742, 0.01011932734400034, 0.10078924149274826, 0.034564435482025146, -0.013251283206045628, -0.04997507482767105, 0.043394532054662704, 0.0257169958204031, -0.07600009441375732, 0.007238226477056742, -0.0019221308175474405, -0.005512426607310772, 0.04433572292327881, -0.04011395946145058, -0.057967595756053925, -0.04467211291193962, -0.04673360288143158, 0.008852378465235233, 0.0365041047334671, -0.07048723846673965, 0.017859291285276413, 0.025783827528357506, 0.01278659701347351, -0.07673346251249313, 0.0648982971906662, 0.03739489987492561, 0.018218491226434708, 0.005313686560839415, -0.026883210986852646, 0.0020181091967970133, -0.04412686079740524, -0.03173847496509552, 0.007953918538987637, -0.02870931848883629, -0.0031078518368303776, -0.053389765322208405, -0.03287772089242935, 0.008545699529349804, -0.02674919366836548, -0.02604719251394272, -0.06481456011533737, 0.019523639231920242, 0.004735358990728855, 0.017336685210466385, -0.005948146339505911, 0.06261178106069565, 0.03707326576113701, -0.045933861285448074, -0.005433236248791218, 0.06112629920244217, 0.05631581321358681, 0.014107947237789631, -0.004949370864778757, -0.004130866844207048, -0.007768637966364622, -0.024409765377640724, -0.045108549296855927, 0.02800469845533371, -0.011376594193279743, -0.00687794154509902, 0.012500530108809471, 0.02459590882062912, -0.017505541443824768, 0.02899003215134144, -0.01280615571886301, -0.031932078301906586, -0.0645400658249855, 0.004171555861830711, 0.05442327260971069, -0.028629301115870476, -0.012921769171953201, 0.018971478566527367, 0.019642770290374756, 0.00831728707998991, 0.020812155678868294, -0.009534565731883049, -0.008087524212896824, -0.02906273864209652, -0.040997643023729324, -0.012879771180450916, 0.009704971686005592, -0.0044745029881596565, -0.06354253739118576, 0.00339943147264421, -0.042156971991062164, -0.04641623795032501, -0.0036055317614227533, 0.02245520055294037, 0.042499952018260956, -0.029177634045481682, -0.03410894796252251, -0.04491579905152321, -0.045744433999061584, 0.01626226305961609, 0.00669127469882369, 0.047843772917985916, -0.03792453929781914, 0.02008569799363613, 0.05683492496609688, 0.03552703186869621, 0.017867140471935272, -0.00095485954079777, -0.035165935754776, 0.03518407791852951, -0.11342860758304596, -0.02731655351817608, -0.033258385956287384, -0.016350578516721725, -0.00240110931918025, -0.01914041116833687, 0.021316492930054665, 0.08318382501602173, -0.005339619237929583, -0.01438956055790186, -0.04342244938015938, 0.08142530918121338, 0.034453440457582474, 0.002955693518742919, -0.0166915412992239, -0.024814046919345856, 0.035437509417533875, 0.04766751080751419, -0.04497317969799042, 0.023746641352772713, 0.010053429752588272, -0.003590389620512724, 0.022457700222730637, -0.05931632220745087, -0.0034130061976611614, 0.009272456169128418, -0.028095349669456482, 0.07873076945543289, -0.0336926244199276, 0.03143717348575592, -0.013643675483763218, -0.016972359269857407, 0.043945878744125366, -0.00618314603343606, 0.006198023911565542, -0.024283720180392265, 0.08322875201702118, -0.04459761083126068, 0.014197355136275291, 0.03098471835255623, 0.015010989271104336, 0.08355007320642471, -0.0039870524778962135, 0.08702928572893143, 0.02875589206814766, 0.031670283526182175, 0.03655482456088066, 0.0026289643719792366, -0.0035053808242082596, 0.02190900407731533, 0.01711537316441536, 0.011208577081561089, 0.020101159811019897, -0.004502440337091684, -0.0099817318841815, -0.06430348753929138, -0.011502780951559544, -0.01291951909661293, 0.0029144417494535446, 0.017961464822292328, 0.032542306929826736, -0.0405547060072422, -0.06910229474306107, -0.009255115874111652, 0.0063314479775726795, -0.044295601546764374, -0.05375398322939873, -0.0060157631523907185, 0.015862349420785904, 0.04164750874042511, -0.05528932809829712, 0.0642622783780098, -0.02375132031738758, -0.03614377975463867, -0.03038828819990158, -0.0722474455833435, 0.06402531266212463, -0.03254513815045357, -0.023680690675973892, -0.02144606225192547, 0.05818925425410271, -0.041916582733392715, -0.0160360150039196, 0.022773681208491325, 0.005247257649898529, 0.02174961566925049, -0.016278065741062164, -0.022121191024780273, 0.03416210040450096, -0.011007636785507202, 0.014905290678143501, -0.05990564078092575, -0.027400929480791092, 0.0023698837030678988, 0.032445210963487625, -0.05984899029135704, -0.007259579841047525, 0.04710858687758446, 0.03135974705219269, -0.02671634592115879, 0.049910612404346466, -0.03398072347044945, 0.021873846650123596, 0.03822348639369011, 0.0025434133131057024, -0.034688711166381836, -0.02713482640683651, 0.02217952534556389, -0.03711136430501938, 0.010787652805447578, 0.00654911994934082, 0.033593807369470596, -0.05291549116373062, 0.028217492625117302, -0.003032698994502425, 0.008120843209326267, 0.06237832456827164, 0.024246959015727043, 0.009916968643665314, -0.040813811123371124, -0.01268700510263443, -0.07151045650243759, -0.03370741754770279, -0.070460744202137, 0.049221500754356384, -0.02347228117287159, -0.037696562707424164, 0.006994726601988077, -0.018838025629520416, -0.002089041518047452, 0.07368042320013046, -0.0173556599766016, -0.02628893032670021, 0.018227921798825264, -0.013463140465319157, 0.1074291542172432, 0.026625284925103188, 0.04925331845879555, -0.039830297231674194, -0.052481211721897125, -0.02358858473598957, -0.06454376876354218, -0.04442882910370827, 0.0014383954694494605, 0.015321815386414528, 0.04449280723929405, -0.05310659855604172, 0.041789788752794266, 0.018476685509085655, 0.034007735550403595, 0.03498696908354759, -0.03666108846664429, 0.0060330163687467575, 0.03865581750869751, -0.028773363679647446, -0.028097383677959442, 0.029382754117250443, 0.008646796457469463, -0.03124518133699894, -0.014950311742722988, 0.0002497372915968299, -0.039927054196596146, 0.042329251766204834, 0.029938790947198868, -0.1038869097828865, 0.021612470969557762, -0.018932444974780083, -0.005554809235036373, 0.009327164851129055, -0.0021729827858507633, -0.014055639505386353, 0.09008804708719254, -0.008225969970226288, -0.0026744059287011623, -0.0051183756440877914, 0.023630471900105476, 0.03903656080365181, 0.03996756672859192, -0.05365995317697525, -0.013265575282275677, 0.02686123363673687, 0.015790525823831558, -0.02441810630261898, 0.021124359220266342, -0.040287308394908905, 0.015569739043712616, 0.06206127256155014, -0.007484847214072943, -0.011259539052844048, -0.01193116046488285, 0.012254334054887295, -0.016260625794529915, -0.05753101781010628, 0.06732828170061111, -0.01983918435871601, 0.028162430971860886, -0.003875941736623645, 0.045203015208244324]}}]}})"
      ]
     },
     "execution_count": 26,
     "metadata": {},
     "output_type": "execute_result"
    }
   ],
   "source": [
    "es_client.search(\n",
    "    index=index_name,\n",
    "    body={\n",
    "        \"query\": {\n",
    "            \"match_all\": {}\n",
    "        },\n",
    "        \"size\": 5\n",
    "    }\n",
    ")"
   ]
  },
  {
   "cell_type": "code",
   "execution_count": 17,
   "metadata": {},
   "outputs": [
    {
     "name": "stdout",
     "output_type": "stream",
     "text": [
      "0.82532895 {'id': 'ee58a693'}\n"
     ]
    }
   ],
   "source": [
    "query = {\n",
    "    \"field\": \"question_text_vector\",\n",
    "    \"query_vector\": v,\n",
    "    \"k\": 1,\n",
    "    \"num_candidates\": 10000, \n",
    "}\n",
    "\n",
    "res = es_client.search(\n",
    "    index=index_name,\n",
    "    knn=query,\n",
    "    source=[\"id\"]\n",
    ")\n",
    "\n",
    "for doc in res['hits']['hits']:\n",
    "    print(doc['_score'], doc['_source'])"
   ]
  },
  {
   "cell_type": "markdown",
   "metadata": {},
   "source": [
    "# Q6. Hit-rate for Elasticsearch"
   ]
  },
  {
   "cell_type": "code",
   "execution_count": 21,
   "metadata": {},
   "outputs": [
    {
     "data": {
      "text/plain": [
       "[{'question': 'The course has already started. Can I still join it?',\n",
       "  'section': 'General course-related questions',\n",
       "  'text': 'Yes, you can. You won’t be able to submit some of the homeworks, but you can still take part in the course.\\nIn order to get a certificate, you need to submit 2 out of 3 course projects and review 3 peers’ Projects by the deadline. It means that if you join the course at the end of November and manage to work on two projects, you will still be eligible for a certificate.',\n",
       "  'id': 'ee58a693'},\n",
       " {'question': 'I just joined. What should I do next? How can I access course materials?',\n",
       "  'section': 'General course-related questions',\n",
       "  'text': 'Welcome to the course! Go to the course page (http://mlzoomcamp.com/), scroll down and start going through the course materials. Then read everything in the cohort folder for your cohort’s year.\\nClick on the links and start watching the videos. Also watch office hours from previous cohorts. Go to DTC youtube channel and click on Playlists and search for {course yyyy}. ML Zoomcamp was first launched in 2021.\\nOr you can just use this link: http://mlzoomcamp.com/#syllabus',\n",
       "  'id': '0a278fb2'},\n",
       " {'question': \"I filled the form, but haven't received a confirmation email. Is it normal?\",\n",
       "  'section': 'General course-related questions',\n",
       "  'text': \"The process is automated now, so you should receive the email eventually. If you haven’t, check your promotions tab in Gmail as well as spam.\\nIf you unsubscribed from our newsletter, you won't get course related updates too.\\nBut don't worry, it’s not a problem. To make sure you don’t miss anything, join the #course-ml-zoomcamp channel in Slack and our telegram channel with announcements. This is enough to follow the course.\",\n",
       "  'id': '6ba259b1'},\n",
       " {'question': 'Can I do the course in other languages, like R or Scala?',\n",
       "  'section': 'Miscellaneous',\n",
       "  'text': 'Technically, yes. Advisable? Not really. Reasons:\\nSome homework(s) asks for specific python library versions.\\nAnswers may not match in MCQ options if using different languages other than Python 3.10 (the recommended version for 2023 cohort)\\nAnd as for midterms/capstones, your peer-reviewers may not know these other languages. Do you want to be penalized for others not knowing these other languages?\\nYou can create a separate repo using course’s lessons but written in other languages for your own learnings, but not advisable for submissions.\\ntx[source]',\n",
       "  'id': '9f261648'},\n",
       " {'question': 'The course videos are from the previous iteration. Will you release new ones or we’ll use the videos from 2021?',\n",
       "  'section': 'General course-related questions',\n",
       "  'text': 'We won’t re-record the course videos. The focus of the course and the skills we want to teach remained the same, and the videos are still up-to-date.\\nIf you haven’t taken part in the previous iteration, you can start watching the videos. It’ll be useful for you and you will learn new things. However, we recommend using Python 3.10 now instead of Python 3.8.',\n",
       "  'id': 'e7ba6b8a'}]"
      ]
     },
     "execution_count": 21,
     "metadata": {},
     "output_type": "execute_result"
    }
   ],
   "source": [
    "class ElasticSearchVectorSearchEngine():\n",
    "    def __init__(self, es_client):\n",
    "        self.es_client = es_client\n",
    "\n",
    "    def search(self, v_query, num_results=10):\n",
    "        query = {\n",
    "            \"field\": \"question_text_vector\",\n",
    "            \"query_vector\": v_query,\n",
    "            \"k\": num_results,\n",
    "            \"num_candidates\": 10000, \n",
    "        }\n",
    "\n",
    "        res = self.es_client.search(\n",
    "            index=index_name,\n",
    "            knn=query,\n",
    "            source=['text', 'section', 'question', 'id']\n",
    "        )\n",
    "        return list(map(lambda x: x['_source'], res['hits']['hits']))\n",
    "\n",
    "search_engine = ElasticSearchVectorSearchEngine(es_client)\n",
    "search_engine.search(v, num_results=5)"
   ]
  },
  {
   "cell_type": "code",
   "execution_count": 33,
   "metadata": {},
   "outputs": [
    {
     "name": "stderr",
     "output_type": "stream",
     "text": [
      "100%|██████████| 1830/1830 [01:11<00:00, 25.64it/s]\n"
     ]
    },
    {
     "data": {
      "text/plain": [
       "0.9398907103825137"
      ]
     },
     "execution_count": 33,
     "metadata": {},
     "output_type": "execute_result"
    }
   ],
   "source": [
    "search_engine = ElasticSearchVectorSearchEngine(es_client)\n",
    "search_function = searcher(embedding_model, search_engine)\n",
    "\n",
    "hit_rate_evaluator = metric_evaluator(hit_rate)\n",
    "hit_rate_evaluator(ground_truth, lambda v: search_function(v['question'], num_results=5))"
   ]
  },
  {
   "cell_type": "code",
   "execution_count": null,
   "metadata": {},
   "outputs": [],
   "source": []
  }
 ],
 "metadata": {
  "kernelspec": {
   "display_name": "Python 3",
   "language": "python",
   "name": "python3"
  },
  "language_info": {
   "codemirror_mode": {
    "name": "ipython",
    "version": 3
   },
   "file_extension": ".py",
   "mimetype": "text/x-python",
   "name": "python",
   "nbconvert_exporter": "python",
   "pygments_lexer": "ipython3",
   "version": "3.10.13"
  }
 },
 "nbformat": 4,
 "nbformat_minor": 2
}
